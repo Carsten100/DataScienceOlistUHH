{
 "cells": [
  {
   "cell_type": "code",
   "execution_count": 58,
   "metadata": {},
   "outputs": [],
   "source": [
    "import pandas\n",
    "import matplotlib.pyplot as plt\n",
    "import numpy\n",
    "\n",
    "\n",
    "sellersData = pandas.read_csv('datasets_55151_195341_olist_sellers_dataset.csv')\n",
    "#categoryTranslation = pandas.read_csv('datasets_55151_195341_product_category_name_translation.csv') #eventuell unwichtig?\n",
    "costumerData = pandas.read_csv('olist_customers_dataset.csv')\n",
    "geolocationStats = pandas.read_csv('olist_geolocation_dataset.csv')\n",
    "orderItemsData = pandas.read_csv('olist_order_items_dataset.csv') #?\n",
    "paymentsData = pandas.read_csv('olist_order_payments_dataset.csv')\n",
    "reviewsData = pandas.read_csv('olist_order_reviews_dataset.csv')\n",
    "orderData = pandas.read_csv('olist_orders_dataset.csv')\n",
    "productData = pandas.read_csv('olist_products_dataset.csv')\n"
   ]
  },
  {
   "cell_type": "code",
   "execution_count": null,
   "metadata": {},
   "outputs": [],
   "source": [
    "year2017month1 = []\n",
    "year2017month2 = []\n",
    "year2017month3 = []\n",
    "year2017month4 = []\n",
    "year2017month5 = []\n",
    "year2017month6 = []\n",
    "year2017month7 = []\n",
    "year2017month8 = []\n",
    "year2017month9 = []\n",
    "year2017month10 = []\n",
    "year2017month11 = []\n",
    "year2017month12 = []\n",
    "\n",
    "year2018month1 = []\n",
    "year2018month2 = []\n",
    "year2018month3 = []\n",
    "year2018month4 = []\n",
    "year2018month5 = []\n",
    "year2018month6 = []\n",
    "year2018month7 = []\n",
    "year2018month8 = []\n",
    "year2018month9 = []\n",
    "year2018month10 = []\n",
    "year2018month11 = []\n",
    "year2018month12 = []\n",
    "\n",
    "i = 0\n",
    "while i < 112649:\n",
    "    #JAHR 2017\n",
    "    if orderItemsData['shipping_limit_date'][i].find('2017-01') == 0:\n",
    "            year2017month1.append(orderItemsData['shipping_limit_date'][i])\n",
    "    elif orderItemsData['shipping_limit_date'][i].find('2017-02') == 0:\n",
    "            year2017month2.append(orderItemsData['shipping_limit_date'][i])\n",
    "    elif orderItemsData['shipping_limit_date'][i].find('2017-03') == 0:\n",
    "            year2017month3.append(orderItemsData['shipping_limit_date'][i])\n",
    "    elif orderItemsData['shipping_limit_date'][i].find('2017-04') == 0:\n",
    "            year2017month4.append(orderItemsData['shipping_limit_date'][i])\n",
    "    elif orderItemsData['shipping_limit_date'][i].find('2017-05') == 0:\n",
    "            year2017month5.append(orderItemsData['shipping_limit_date'][i])\n",
    "    elif orderItemsData['shipping_limit_date'][i].find('2017-06') == 0:\n",
    "            year2017month6.append(orderItemsData['shipping_limit_date'][i])\n",
    "    elif orderItemsData['shipping_limit_date'][i].find('2017-07') == 0:\n",
    "            year2017month7.append(orderItemsData['shipping_limit_date'][i])\n",
    "    elif orderItemsData['shipping_limit_date'][i].find('2017-08') == 0:\n",
    "            year2017month8.append(orderItemsData['shipping_limit_date'][i])\n",
    "    elif orderItemsData['shipping_limit_date'][i].find('2017-09') == 0:\n",
    "            year2017month9.append(orderItemsData['shipping_limit_date'][i])\n",
    "    elif orderItemsData['shipping_limit_date'][i].find('2017-10') == 0:\n",
    "            year2017month10.append(orderItemsData['shipping_limit_date'][i])\n",
    "    elif orderItemsData['shipping_limit_date'][i].find('2017-11') == 0:\n",
    "            year2017month11.append(orderItemsData['shipping_limit_date'][i])\n",
    "    elif orderItemsData['shipping_limit_date'][i].find('2017-12') == 0:\n",
    "            year2017month12.append(orderItemsData['shipping_limit_date'][i])\n",
    "            \n",
    "    #JAHR 2018\n",
    "    elif orderItemsData['shipping_limit_date'][i].find('2018-01') == 0:\n",
    "            year2018month1.append(orderItemsData['shipping_limit_date'][i])\n",
    "    elif orderItemsData['shipping_limit_date'][i].find('2018-02') == 0:\n",
    "            year2018month2.append(orderItemsData['shipping_limit_date'][i])\n",
    "    elif orderItemsData['shipping_limit_date'][i].find('2018-03') == 0:\n",
    "            year2018month3.append(orderItemsData['shipping_limit_date'][i])\n",
    "    elif orderItemsData['shipping_limit_date'][i].find('2018-04') == 0:\n",
    "            year2018month4.append(orderItemsData['shipping_limit_date'][i])\n",
    "    elif orderItemsData['shipping_limit_date'][i].find('2018-05') == 0:\n",
    "            year2018month5.append(orderItemsData['shipping_limit_date'][i])\n",
    "    elif orderItemsData['shipping_limit_date'][i].find('2018-06') == 0:\n",
    "            year2018month6.append(orderItemsData['shipping_limit_date'][i])\n",
    "    elif orderItemsData['shipping_limit_date'][i].find('2018-07') == 0:\n",
    "            year2018month7.append(orderItemsData['shipping_limit_date'][i])\n",
    "    elif orderItemsData['shipping_limit_date'][i].find('2018-08') == 0:\n",
    "            year2018month8.append(orderItemsData['shipping_limit_date'][i])\n",
    "    elif orderItemsData['shipping_limit_date'][i].find('2018-09') == 0:\n",
    "            year2018month9.append(orderItemsData['shipping_limit_date'][i])\n",
    "    elif orderItemsData['shipping_limit_date'][i].find('2018-10') == 0:\n",
    "            year2018month10.append(orderItemsData['shipping_limit_date'][i])\n",
    "    elif orderItemsData['shipping_limit_date'][i].find('2018-11') == 0:\n",
    "            year2018month11.append(orderItemsData['shipping_limit_date'][i])\n",
    "    elif orderItemsData['shipping_limit_date'][i].find('2018-12') == 0:\n",
    "            year2018month12.append(orderItemsData['shipping_limit_date'][i])\n",
    "    \n",
    "    i = i+1 ##inkrementierung \n",
    "\n"
   ]
  },
  {
   "cell_type": "markdown",
   "metadata": {},
   "source": [
    "# OrderItemsData\n",
    "## Wie viele Bestellungen gab es von 01.2017 - 09.2018?\n"
   ]
  },
  {
   "cell_type": "code",
   "execution_count": 168,
   "metadata": {},
   "outputs": [
    {
     "data": {
      "image/png": "[encoded data removed]",
      "text/plain": [
       "<Figure size 432x288 with 1 Axes>"
      ]
     },
     "metadata": {
      "needs_background": "light"
     },
     "output_type": "display_data"
    },
    {
     "name": "stdout",
     "output_type": "stream",
     "text": [
      "\n",
      "\n",
      "\n",
      "Anzahl der Bestellungen pro Monat:\n",
      "\n",
      "681 Januar\n",
      "1866 Februar\n",
      "2751 Maerz\n",
      "2364 Mai\n",
      "4150 April\n",
      "3801 Mai\n",
      "4116 Juni\n",
      "5042 Juli\n",
      "4724 August\n",
      "5189 September\n",
      "7355 November\n",
      "7726 Dezember\n"
     ]
    }
   ],
   "source": [
    "union, xBeschriftung = plt.subplots()\n",
    "jahre = ('Januar','Februar','Maerz', 'Mai','April','Mai','Juni','Juli','August','September','November','Dezember')\n",
    "\n",
    "bestellungsAnzahlProMonat = [len(year2017month1),len(year2017month2),len(year2017month3),len(year2017month4),len(year2017month5),\n",
    "                             len(year2017month6),len(year2017month7),len(year2017month8),len(year2017month9),len(year2017month10),\n",
    "                             len(year2017month11),len(year2017month12)]                 \n",
    "\n",
    "plt.title(\"Bestellungen: 2017\", size=\"x-large\")\n",
    "plt.ylabel(\"Anzahl der Bestellungen\", size=\"x-large\")\n",
    "plt.xlabel(\"Jahre\", size=\"x-large\")\n",
    "\n",
    "y_pos = numpy.arange(len(jahre)) #Balkengroeße\n",
    "c_rects = plt.bar(y_pos, bestellungsAnzahlProMonat, align='center', color=['#abcdef','#cccccd','#cccccf','#ccccca','#cccccb','#cccccc','#ccdccc','#cceccc','#cccfcc','#ccccac','#dccccc','#bccccc'])\n",
    "xBeschriftung.set_xticks(range(len(jahre)))\n",
    "xBeschriftung.set_xticklabels(jahre, rotation='vertical')\n",
    "plt.show()\n",
    "\n",
    "\n",
    "print('\\n\\n\\nAnzahl der Bestellungen pro Monat:\\n')\n",
    "i=0\n",
    "while i<len(bestellungsAnzahlProMonat):\n",
    "    print(bestellungsAnzahlProMonat[i], jahre[i])\n",
    "    i = i+1\n"
   ]
  },
  {
   "cell_type": "code",
   "execution_count": 166,
   "metadata": {},
   "outputs": [
    {
     "data": {
      "image/png": "[encoded data removed]",
      "text/plain": [
       "<Figure size 432x288 with 1 Axes>"
      ]
     },
     "metadata": {
      "needs_background": "light"
     },
     "output_type": "display_data"
    },
    {
     "name": "stdout",
     "output_type": "stream",
     "text": [
      "\n",
      "\n",
      "\n",
      "Anzahl der Bestellungen pro Monat:\n",
      "\n",
      "7492 Januar\n",
      "7375 Februar\n",
      "8759 Maerz\n",
      "7637 Mai\n",
      "8765 April\n",
      "6896 Mai\n",
      "6672 Juni\n",
      "8815 Juli\n",
      "99 August\n"
     ]
    }
   ],
   "source": [
    "union, xBeschriftung = plt.subplots()\n",
    "jahre = ('Januar','Februar','Maerz', 'Mai','April','Mai','Juni','Juli','August')\n",
    "\n",
    "bestellungsAnzahlProMonat = [len(year2018month1),len(year2018month2),len(year2018month3),len(year2018month4),len(year2018month5),\n",
    "                            len(year2018month6),len(year2018month7),len(year2018month8),len(year2018month9)]\n",
    "                           \n",
    "\n",
    "plt.title(\"Bestellungen: 01.2018 bis 09.2018\", size=\"x-large\")\n",
    "plt.ylabel(\"Anzahl der Bestellungen\", size=\"x-large\")\n",
    "plt.xlabel(\"Jahre\", size=\"x-large\")\n",
    "\n",
    "y_pos = numpy.arange(len(jahre)) #Balkengroeße\n",
    "plt.bar(y_pos, bestellungsAnzahlProMonat, align='center', color=['#abcdef','#cccccd','#cccccf','#ccccca','#cccccb','#cccccc','#ccdccc','#cceccc','#cccfcc','#ccccac','#dccccc','#bccccc'])\n",
    "xBeschriftung.set_xticks(range(len(jahre)))\n",
    "xBeschriftung.set_xticklabels(jahre, rotation='vertical')\n",
    "plt.show()\n",
    "\n",
    "print('\\n\\n\\nAnzahl der Bestellungen pro Monat:\\n')\n",
    "i=0\n",
    "while i<len(bestellungsAnzahlProMonat):\n",
    "    print(bestellungsAnzahlProMonat[i], jahre[i])\n",
    "    i = i+1"
   ]
  },
  {
   "cell_type": "markdown",
   "metadata": {},
   "source": [
    "# List clearing\n",
    "\n",
    "clearinglist(year2017month1)\n",
    "clearinglist(year2017month2)\n",
    "clearinglist(year2017month3)\n",
    "clearinglist(year2017month4)\n",
    "clearinglist(year2017month5)\n",
    "clearinglist(year2017month6)\n",
    "clearinglist(year2017month7)\n",
    "clearinglist(year2017month8)\n",
    "clearinglist(year2017month9)\n",
    "clearinglist(year2017month10)\n",
    "clearinglist(year2017month11)\n",
    "clearinglist(year2017month12)\n",
    "\n",
    "clearinglist(year2018month1)\n",
    "clearinglist(year2018month2)\n",
    "clearinglist(year2018month3)\n",
    "clearinglist(year2018month4)\n",
    "clearinglist(year2018month5)\n",
    "clearinglist(year2018month6)\n",
    "clearinglist(year2018month7)\n",
    "clearinglist(year2018month8)\n",
    "clearinglist(year2018month9)\n",
    "clearinglist(year2018month10)\n",
    "clearinglist(year2018month11)\n",
    "clearinglist(year2018month12)\n",
    "\n",
    "def clearinglist(list):\n",
    "    list.clear()"
   ]
  }
 ],
 "metadata": {
  "kernelspec": {
   "display_name": "Python 3",
   "language": "python",
   "name": "python3"
  },
  "language_info": {
   "codemirror_mode": {
    "name": "ipython",
    "version": 3
   },
   "file_extension": ".py",
   "mimetype": "text/x-python",
   "name": "python",
   "nbconvert_exporter": "python",
   "pygments_lexer": "ipython3",
   "version": "3.7.6"
  }
 },
 "nbformat": 4,
 "nbformat_minor": 4
}
