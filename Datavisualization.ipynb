{
 "cells": [
  {
   "cell_type": "code",
   "execution_count": 108,
   "metadata": {},
   "outputs": [],
   "source": [
    "import pandas\n",
    "import matplotlib.pyplot as plt\n",
    "import numpy\n",
    "\n",
    "\n",
    "sellersData = pandas.read_csv('datasets_55151_195341_olist_sellers_dataset.csv')\n",
    "categoryTranslation = pandas.read_csv('datasets_55151_195341_product_category_name_translation.csv') #eventuell unwichtig?\n",
    "costumerData = pandas.read_csv('olist_customers_dataset.csv')\n",
    "geolocationStats = pandas.read_csv('olist_geolocation_dataset.csv')\n",
    "orderItemsData = pandas.read_csv('olist_order_items_dataset.csv') #?\n",
    "paymentsData = pandas.read_csv('olist_order_payments_dataset.csv')\n",
    "reviewsData = pandas.read_csv('olist_order_reviews_dataset.csv')\n",
    "orderData = pandas.read_csv('olist_orders_dataset.csv')\n",
    "productData = pandas.read_csv('olist_products_dataset.csv')\n"
   ]
  },
  {
   "cell_type": "markdown",
   "metadata": {},
   "source": [
    "# OrderItemsData\n",
    "## Wie viele Bestellungen gab es in den letzten Jahren?\n",
    "\n",
    "Jahre sind unsortiert."
   ]
  },
  {
   "cell_type": "code",
   "execution_count": 109,
   "metadata": {},
   "outputs": [
    {
     "name": "stdout",
     "output_type": "stream",
     "text": [
      "                                order_id  order_item_id  \\\n",
      "0       00010242fe8c5a6d1ba2dd792cb16214              1   \n",
      "1       00018f77f2f0320c557190d7a144bdd3              1   \n",
      "2       000229ec398224ef6ca0657da4fc703e              1   \n",
      "3       00024acbcdf0a6daa1e931b038114c75              1   \n",
      "4       00042b26cf59d7ce69dfabb4e55b4fd9              1   \n",
      "...                                  ...            ...   \n",
      "112645  fffc94f6ce00a00581880bf54a75a037              1   \n",
      "112646  fffcd46ef2263f404302a634eb57f7eb              1   \n",
      "112647  fffce4705a9662cd70adb13d4a31832d              1   \n",
      "112648  fffe18544ffabc95dfada21779c9644f              1   \n",
      "112649  fffe41c64501cc87c801fd61db3f6244              1   \n",
      "\n",
      "                              product_id                         seller_id  \\\n",
      "0       4244733e06e7ecb4970a6e2683c13e61  48436dade18ac8b2bce089ec2a041202   \n",
      "1       e5f2d52b802189ee658865ca93d83a8f  dd7ddc04e1b6c2c614352b383efe2d36   \n",
      "2       c777355d18b72b67abbeef9df44fd0fd  5b51032eddd242adc84c38acab88f23d   \n",
      "3       7634da152a4610f1595efa32f14722fc  9d7a1d34a5052409006425275ba1c2b4   \n",
      "4       ac6c3623068f30de03045865e4e10089  df560393f3a51e74553ab94004ba5c87   \n",
      "...                                  ...                               ...   \n",
      "112645  4aa6014eceb682077f9dc4bffebc05b0  b8bc237ba3788b23da09c0f1f3a3288c   \n",
      "112646  32e07fd915822b0765e448c4dd74c828  f3c38ab652836d21de61fb8314b69182   \n",
      "112647  72a30483855e2eafc67aee5dc2560482  c3cfdc648177fdbbbb35635a37472c53   \n",
      "112648  9c422a519119dcad7575db5af1ba540e  2b3e4a2a3ea8e01938cabda2a3e5cc79   \n",
      "112649  350688d9dc1e75ff97be326363655e01  f7ccf836d21b2fb1de37564105216cc1   \n",
      "\n",
      "        shipping_limit_date   price  freight_value  \n",
      "0       2017-09-19 09:45:35   58.90          13.29  \n",
      "1       2017-05-03 11:05:13  239.90          19.93  \n",
      "2       2018-01-18 14:48:30  199.00          17.87  \n",
      "3       2018-08-15 10:10:18   12.99          12.79  \n",
      "4       2017-02-13 13:57:51  199.90          18.14  \n",
      "...                     ...     ...            ...  \n",
      "112645  2018-05-02 04:11:01  299.99          43.41  \n",
      "112646  2018-07-20 04:31:48  350.00          36.53  \n",
      "112647  2017-10-30 17:14:25   99.90          16.95  \n",
      "112648  2017-08-21 00:04:32   55.99           8.72  \n",
      "112649  2018-06-12 17:10:13   43.00          12.79  \n",
      "\n",
      "[112650 rows x 7 columns]\n"
     ]
    }
   ],
   "source": [
    "print(orderItemsData)"
   ]
  },
  {
   "cell_type": "code",
   "execution_count": 110,
   "metadata": {},
   "outputs": [],
   "source": [
    "year2017 = []\n",
    "year2018 = []\n",
    "year2019 = []\n",
    "i = 0\n",
    "while i < 112649:\n",
    "    if orderItemsData['shipping_limit_date'][i].find('7') == 3:\n",
    "        year2017.append(orderItemsData['shipping_limit_date'][i])\n",
    "    if orderItemsData['shipping_limit_date'][i].find('8') == 3:\n",
    "        year2018.append(orderItemsData['shipping_limit_date'][i])\n",
    "    if orderItemsData['shipping_limit_date'][i].find('9') == 3:\n",
    "        year2019.append(orderItemsData['shipping_limit_date'][i])\n",
    "    i = i + 1\n",
    "\n",
    "#year2017.clear()\n",
    "#year2018.clear()\n",
    "#year2019.clear()"
   ]
  },
  {
   "cell_type": "code",
   "execution_count": 122,
   "metadata": {},
   "outputs": [
    {
     "data": {
      "text/plain": [
       "[Text(0, 0, '2017'), Text(0, 0, '2018'), Text(0, 0, '2019')]"
      ]
     },
     "execution_count": 122,
     "metadata": {},
     "output_type": "execute_result"
    },
    {
     "data": {
      "image/png": "[encoded data removed]",
      "text/plain": [
       "<Figure size 432x288 with 1 Axes>"
      ]
     },
     "metadata": {
      "needs_background": "light"
     },
     "output_type": "display_data"
    }
   ],
   "source": [
    "union, xBeschriftung = plt.subplots()\n",
    "jahre = ('2017','2018','2019')\n",
    "bestellungsAnzahlProJahr = [len(year2017),len(year2018),len(year2019)]\n",
    "plt.title(\"Bestellungen in den letzten drei Jahren\", size=\"x-large\")\n",
    "plt.ylabel(\"Anzahl der Bestellungen\", size=\"x-large\")\n",
    "plt.xlabel(\"Jahre\", size=\"x-large\")\n",
    "y_pos = numpy.arange(len(jahre)) #Balkengroeße\n",
    "plt.bar(y_pos, bestellungsAnzahlProJahr, align='center', color=['#abcdef','#cccccc'])\n",
    "xBeschriftung.set_xticks(range(len(jahre)))\n",
    "xBeschriftung.set_xticklabels(jahre, rotation='horizontal')\n"
   ]
  },
  {
   "cell_type": "code",
   "execution_count": null,
   "metadata": {},
   "outputs": [],
   "source": []
  }
 ],
 "metadata": {
  "kernelspec": {
   "display_name": "Python 3",
   "language": "python",
   "name": "python3"
  },
  "language_info": {
   "codemirror_mode": {
    "name": "ipython",
    "version": 3
   },
   "file_extension": ".py",
   "mimetype": "text/x-python",
   "name": "python",
   "nbconvert_exporter": "python",
   "pygments_lexer": "ipython3",
   "version": "3.7.6"
  }
 },
 "nbformat": 4,
 "nbformat_minor": 4
}
