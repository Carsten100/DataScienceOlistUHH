{
 "cells": [
  {
   "cell_type": "code",
   "execution_count": 1,
   "metadata": {},
   "outputs": [],
   "source": [
    "import numpy as np\n",
    "import pandas as pd\n",
    "import matplotlib.pyplot as plt\n",
    "%matplotlib inline\n",
    "import seaborn as sns\n",
    "\n",
    "\n",
    "\n",
    "orders = pd.read_csv('D:\\Data Science\\olist_orders_dataset.csv')\n",
    "order_payments = pd.read_csv('D:\\Data Science\\olist_order_payments_dataset.csv')\n",
    "customers = pd.read_csv('D:\\Data Science\\olist_customers_dataset.csv')\n",
    "order_items = pd.read_csv('D:\\Data Science\\olist_order_items_dataset.csv')\n",
    "order_reviews = pd.read_csv('D:\\Data Science\\olist_order_reviews_dataset.csv')"
   ]
  },
  {
   "cell_type": "code",
   "execution_count": 2,
   "metadata": {},
   "outputs": [],
   "source": [
    "order_items = order_items[(order_items.order_item_id == 1)]\n",
    "order_items = pd.merge(order_items, order_reviews, on='order_id')\n",
    "order_items = pd.merge(order_items, orders, on='order_id')\n",
    "order_items = pd.merge(order_items, customers, on='customer_id')"
   ]
  },
  {
   "cell_type": "code",
   "execution_count": 3,
   "metadata": {},
   "outputs": [
    {
     "name": "stdout",
     "output_type": "stream",
     "text": [
      "<class 'pandas.core.frame.DataFrame'>\n",
      "Int64Index: 99222 entries, 0 to 99221\n",
      "Data columns (total 3 columns):\n",
      " #   Column              Non-Null Count  Dtype \n",
      "---  ------              --------------  ----- \n",
      " 0   customer_unique_id  99222 non-null  object\n",
      " 1   product_id          99222 non-null  object\n",
      " 2   review_score        99222 non-null  int64 \n",
      "dtypes: int64(1), object(2)\n",
      "memory usage: 3.0+ MB\n"
     ]
    },
    {
     "data": {
      "text/html": [
       "<div>\n",
       "<style scoped>\n",
       "    .dataframe tbody tr th:only-of-type {\n",
       "        vertical-align: middle;\n",
       "    }\n",
       "\n",
       "    .dataframe tbody tr th {\n",
       "        vertical-align: top;\n",
       "    }\n",
       "\n",
       "    .dataframe thead th {\n",
       "        text-align: right;\n",
       "    }\n",
       "</style>\n",
       "<table border=\"1\" class=\"dataframe\">\n",
       "  <thead>\n",
       "    <tr style=\"text-align: right;\">\n",
       "      <th></th>\n",
       "      <th>customer_unique_id</th>\n",
       "      <th>product_id</th>\n",
       "      <th>review_score</th>\n",
       "    </tr>\n",
       "  </thead>\n",
       "  <tbody>\n",
       "    <tr>\n",
       "      <th>0</th>\n",
       "      <td>871766c5855e863f6eccc05f988b23cb</td>\n",
       "      <td>4244733e06e7ecb4970a6e2683c13e61</td>\n",
       "      <td>5</td>\n",
       "    </tr>\n",
       "    <tr>\n",
       "      <th>1</th>\n",
       "      <td>eb28e67c4c0b83846050ddfb8a35d051</td>\n",
       "      <td>e5f2d52b802189ee658865ca93d83a8f</td>\n",
       "      <td>4</td>\n",
       "    </tr>\n",
       "    <tr>\n",
       "      <th>2</th>\n",
       "      <td>3818d81c6709e39d06b2738a8d3a2474</td>\n",
       "      <td>c777355d18b72b67abbeef9df44fd0fd</td>\n",
       "      <td>5</td>\n",
       "    </tr>\n",
       "    <tr>\n",
       "      <th>3</th>\n",
       "      <td>af861d436cfc08b2c2ddefd0ba074622</td>\n",
       "      <td>7634da152a4610f1595efa32f14722fc</td>\n",
       "      <td>4</td>\n",
       "    </tr>\n",
       "    <tr>\n",
       "      <th>4</th>\n",
       "      <td>64b576fb70d441e8f1b2d7d446e483c5</td>\n",
       "      <td>ac6c3623068f30de03045865e4e10089</td>\n",
       "      <td>5</td>\n",
       "    </tr>\n",
       "  </tbody>\n",
       "</table>\n",
       "</div>"
      ],
      "text/plain": [
       "                 customer_unique_id                        product_id  \\\n",
       "0  871766c5855e863f6eccc05f988b23cb  4244733e06e7ecb4970a6e2683c13e61   \n",
       "1  eb28e67c4c0b83846050ddfb8a35d051  e5f2d52b802189ee658865ca93d83a8f   \n",
       "2  3818d81c6709e39d06b2738a8d3a2474  c777355d18b72b67abbeef9df44fd0fd   \n",
       "3  af861d436cfc08b2c2ddefd0ba074622  7634da152a4610f1595efa32f14722fc   \n",
       "4  64b576fb70d441e8f1b2d7d446e483c5  ac6c3623068f30de03045865e4e10089   \n",
       "\n",
       "   review_score  \n",
       "0             5  \n",
       "1             4  \n",
       "2             5  \n",
       "3             4  \n",
       "4             5  "
      ]
     },
     "execution_count": 3,
     "metadata": {},
     "output_type": "execute_result"
    }
   ],
   "source": [
    "cols = ['customer_unique_id', 'product_id', 'review_score']\n",
    "dataset = order_items[cols]\n",
    "dataset.info()\n",
    "dataset.head()"
   ]
  },
  {
   "cell_type": "code",
   "execution_count": 4,
   "metadata": {},
   "outputs": [
    {
     "data": {
      "text/plain": [
       "1     92423\n",
       "2      2437\n",
       "3       393\n",
       "4       125\n",
       "5        24\n",
       "6        11\n",
       "7         5\n",
       "16        1\n",
       "9         1\n",
       "Name: review_score, dtype: int64"
      ]
     },
     "execution_count": 4,
     "metadata": {},
     "output_type": "execute_result"
    }
   ],
   "source": [
    "reviews_count = pd.DataFrame(dataset.groupby('customer_unique_id')['review_score'].count())\n",
    "reviews_count.review_score.value_counts()"
   ]
  },
  {
   "cell_type": "code",
   "execution_count": 5,
   "metadata": {},
   "outputs": [
    {
     "name": "stdout",
     "output_type": "stream",
     "text": [
      "<class 'pandas.core.frame.DataFrame'>\n",
      "Index: 2997 entries, 000bfa1d2f1a41876493be685390d6d3 to ffe254cc039740e17dd15a5305035928\n",
      "Data columns (total 1 columns):\n",
      " #   Column        Non-Null Count  Dtype\n",
      "---  ------        --------------  -----\n",
      " 0   review_score  2997 non-null   int64\n",
      "dtypes: int64(1)\n",
      "memory usage: 46.8+ KB\n"
     ]
    },
    {
     "data": {
      "text/html": [
       "<div>\n",
       "<style scoped>\n",
       "    .dataframe tbody tr th:only-of-type {\n",
       "        vertical-align: middle;\n",
       "    }\n",
       "\n",
       "    .dataframe tbody tr th {\n",
       "        vertical-align: top;\n",
       "    }\n",
       "\n",
       "    .dataframe thead th {\n",
       "        text-align: right;\n",
       "    }\n",
       "</style>\n",
       "<table border=\"1\" class=\"dataframe\">\n",
       "  <thead>\n",
       "    <tr style=\"text-align: right;\">\n",
       "      <th></th>\n",
       "      <th>review_score</th>\n",
       "    </tr>\n",
       "    <tr>\n",
       "      <th>customer_unique_id</th>\n",
       "      <th></th>\n",
       "    </tr>\n",
       "  </thead>\n",
       "  <tbody>\n",
       "    <tr>\n",
       "      <th>000bfa1d2f1a41876493be685390d6d3</th>\n",
       "      <td>2</td>\n",
       "    </tr>\n",
       "    <tr>\n",
       "      <th>004288347e5e88a27ded2bb23747066c</th>\n",
       "      <td>2</td>\n",
       "    </tr>\n",
       "    <tr>\n",
       "      <th>004b45ec5c64187465168251cd1c9c2f</th>\n",
       "      <td>2</td>\n",
       "    </tr>\n",
       "    <tr>\n",
       "      <th>0058f300f57d7b93c477a131a59b36c3</th>\n",
       "      <td>2</td>\n",
       "    </tr>\n",
       "    <tr>\n",
       "      <th>00a39521eb40f7012db50455bf083460</th>\n",
       "      <td>2</td>\n",
       "    </tr>\n",
       "  </tbody>\n",
       "</table>\n",
       "</div>"
      ],
      "text/plain": [
       "                                  review_score\n",
       "customer_unique_id                            \n",
       "000bfa1d2f1a41876493be685390d6d3             2\n",
       "004288347e5e88a27ded2bb23747066c             2\n",
       "004b45ec5c64187465168251cd1c9c2f             2\n",
       "0058f300f57d7b93c477a131a59b36c3             2\n",
       "00a39521eb40f7012db50455bf083460             2"
      ]
     },
     "execution_count": 5,
     "metadata": {},
     "output_type": "execute_result"
    }
   ],
   "source": [
    "reviews_count = reviews_count[reviews_count['review_score'] > 1]\n",
    "reviews_count.info()\n",
    "reviews_count.head()"
   ]
  },
  {
   "cell_type": "code",
   "execution_count": 6,
   "metadata": {},
   "outputs": [
    {
     "name": "stdout",
     "output_type": "stream",
     "text": [
      "<class 'pandas.core.frame.DataFrame'>\n",
      "Int64Index: 6799 entries, 0 to 6798\n",
      "Data columns (total 3 columns):\n",
      " #   Column              Non-Null Count  Dtype \n",
      "---  ------              --------------  ----- \n",
      " 0   customer_unique_id  6799 non-null   object\n",
      " 1   product_id          6799 non-null   object\n",
      " 2   review_score_y      6799 non-null   int64 \n",
      "dtypes: int64(1), object(2)\n",
      "memory usage: 212.5+ KB\n"
     ]
    },
    {
     "data": {
      "text/html": [
       "<div>\n",
       "<style scoped>\n",
       "    .dataframe tbody tr th:only-of-type {\n",
       "        vertical-align: middle;\n",
       "    }\n",
       "\n",
       "    .dataframe tbody tr th {\n",
       "        vertical-align: top;\n",
       "    }\n",
       "\n",
       "    .dataframe thead th {\n",
       "        text-align: right;\n",
       "    }\n",
       "</style>\n",
       "<table border=\"1\" class=\"dataframe\">\n",
       "  <thead>\n",
       "    <tr style=\"text-align: right;\">\n",
       "      <th></th>\n",
       "      <th>customer_unique_id</th>\n",
       "      <th>product_id</th>\n",
       "      <th>review_score_y</th>\n",
       "    </tr>\n",
       "  </thead>\n",
       "  <tbody>\n",
       "    <tr>\n",
       "      <th>0</th>\n",
       "      <td>000bfa1d2f1a41876493be685390d6d3</td>\n",
       "      <td>bb15f9ba2ec6e36ab6c9e88d17430d64</td>\n",
       "      <td>5</td>\n",
       "    </tr>\n",
       "    <tr>\n",
       "      <th>1</th>\n",
       "      <td>000bfa1d2f1a41876493be685390d6d3</td>\n",
       "      <td>bb15f9ba2ec6e36ab6c9e88d17430d64</td>\n",
       "      <td>4</td>\n",
       "    </tr>\n",
       "    <tr>\n",
       "      <th>2</th>\n",
       "      <td>004288347e5e88a27ded2bb23747066c</td>\n",
       "      <td>a2bd2eae20998a24c22b110334928b02</td>\n",
       "      <td>5</td>\n",
       "    </tr>\n",
       "    <tr>\n",
       "      <th>3</th>\n",
       "      <td>004288347e5e88a27ded2bb23747066c</td>\n",
       "      <td>6e1b14d3cbb5fb3a2c00351007127dfd</td>\n",
       "      <td>5</td>\n",
       "    </tr>\n",
       "    <tr>\n",
       "      <th>4</th>\n",
       "      <td>004b45ec5c64187465168251cd1c9c2f</td>\n",
       "      <td>b0961721fd839e9982420e807758a2a6</td>\n",
       "      <td>1</td>\n",
       "    </tr>\n",
       "    <tr>\n",
       "      <th>5</th>\n",
       "      <td>004b45ec5c64187465168251cd1c9c2f</td>\n",
       "      <td>a6ad77b15e566298a4e8ee2011ab1255</td>\n",
       "      <td>5</td>\n",
       "    </tr>\n",
       "    <tr>\n",
       "      <th>6</th>\n",
       "      <td>0058f300f57d7b93c477a131a59b36c3</td>\n",
       "      <td>6bd248f93425ceeb625a8a97e2404112</td>\n",
       "      <td>1</td>\n",
       "    </tr>\n",
       "    <tr>\n",
       "      <th>7</th>\n",
       "      <td>0058f300f57d7b93c477a131a59b36c3</td>\n",
       "      <td>4630761de87581e8b659dc77bb7eb4ee</td>\n",
       "      <td>5</td>\n",
       "    </tr>\n",
       "    <tr>\n",
       "      <th>8</th>\n",
       "      <td>00a39521eb40f7012db50455bf083460</td>\n",
       "      <td>a42d9c825894f96fc6ed02610891454d</td>\n",
       "      <td>4</td>\n",
       "    </tr>\n",
       "    <tr>\n",
       "      <th>9</th>\n",
       "      <td>00a39521eb40f7012db50455bf083460</td>\n",
       "      <td>f89cd865cac300a9bf1320dd8f0fa223</td>\n",
       "      <td>4</td>\n",
       "    </tr>\n",
       "    <tr>\n",
       "      <th>10</th>\n",
       "      <td>00cc12a6d8b578b8ebd21ea4e2ae8b27</td>\n",
       "      <td>60d49071f68566b7254c39a7d4ea5c1c</td>\n",
       "      <td>5</td>\n",
       "    </tr>\n",
       "    <tr>\n",
       "      <th>11</th>\n",
       "      <td>00cc12a6d8b578b8ebd21ea4e2ae8b27</td>\n",
       "      <td>60d49071f68566b7254c39a7d4ea5c1c</td>\n",
       "      <td>3</td>\n",
       "    </tr>\n",
       "    <tr>\n",
       "      <th>12</th>\n",
       "      <td>00cc12a6d8b578b8ebd21ea4e2ae8b27</td>\n",
       "      <td>48ee9be392f28ae3a64518a070f4d06a</td>\n",
       "      <td>5</td>\n",
       "    </tr>\n",
       "    <tr>\n",
       "      <th>13</th>\n",
       "      <td>00cc12a6d8b578b8ebd21ea4e2ae8b27</td>\n",
       "      <td>48ee9be392f28ae3a64518a070f4d06a</td>\n",
       "      <td>3</td>\n",
       "    </tr>\n",
       "    <tr>\n",
       "      <th>14</th>\n",
       "      <td>011575986092c30523ecb71ff10cb473</td>\n",
       "      <td>098c663630a7a81f7d7f42a2ce0b02d7</td>\n",
       "      <td>3</td>\n",
       "    </tr>\n",
       "    <tr>\n",
       "      <th>15</th>\n",
       "      <td>011575986092c30523ecb71ff10cb473</td>\n",
       "      <td>818430a64bb4e935b35f1f4da32612eb</td>\n",
       "      <td>4</td>\n",
       "    </tr>\n",
       "    <tr>\n",
       "      <th>16</th>\n",
       "      <td>011b4adcd54683b480c4d841250a987f</td>\n",
       "      <td>ed2067a9c1f79553088a3c67b99a9f97</td>\n",
       "      <td>4</td>\n",
       "    </tr>\n",
       "    <tr>\n",
       "      <th>17</th>\n",
       "      <td>011b4adcd54683b480c4d841250a987f</td>\n",
       "      <td>169e1fedd1319ca92e90e057e7123005</td>\n",
       "      <td>5</td>\n",
       "    </tr>\n",
       "    <tr>\n",
       "      <th>18</th>\n",
       "      <td>012452d40dafae4df401bced74cdb490</td>\n",
       "      <td>78540c45d4f971380710a35fa4ecc41b</td>\n",
       "      <td>4</td>\n",
       "    </tr>\n",
       "    <tr>\n",
       "      <th>19</th>\n",
       "      <td>012452d40dafae4df401bced74cdb490</td>\n",
       "      <td>bb50f2e236e5eea0100680137654686c</td>\n",
       "      <td>5</td>\n",
       "    </tr>\n",
       "  </tbody>\n",
       "</table>\n",
       "</div>"
      ],
      "text/plain": [
       "                  customer_unique_id                        product_id  \\\n",
       "0   000bfa1d2f1a41876493be685390d6d3  bb15f9ba2ec6e36ab6c9e88d17430d64   \n",
       "1   000bfa1d2f1a41876493be685390d6d3  bb15f9ba2ec6e36ab6c9e88d17430d64   \n",
       "2   004288347e5e88a27ded2bb23747066c  a2bd2eae20998a24c22b110334928b02   \n",
       "3   004288347e5e88a27ded2bb23747066c  6e1b14d3cbb5fb3a2c00351007127dfd   \n",
       "4   004b45ec5c64187465168251cd1c9c2f  b0961721fd839e9982420e807758a2a6   \n",
       "5   004b45ec5c64187465168251cd1c9c2f  a6ad77b15e566298a4e8ee2011ab1255   \n",
       "6   0058f300f57d7b93c477a131a59b36c3  6bd248f93425ceeb625a8a97e2404112   \n",
       "7   0058f300f57d7b93c477a131a59b36c3  4630761de87581e8b659dc77bb7eb4ee   \n",
       "8   00a39521eb40f7012db50455bf083460  a42d9c825894f96fc6ed02610891454d   \n",
       "9   00a39521eb40f7012db50455bf083460  f89cd865cac300a9bf1320dd8f0fa223   \n",
       "10  00cc12a6d8b578b8ebd21ea4e2ae8b27  60d49071f68566b7254c39a7d4ea5c1c   \n",
       "11  00cc12a6d8b578b8ebd21ea4e2ae8b27  60d49071f68566b7254c39a7d4ea5c1c   \n",
       "12  00cc12a6d8b578b8ebd21ea4e2ae8b27  48ee9be392f28ae3a64518a070f4d06a   \n",
       "13  00cc12a6d8b578b8ebd21ea4e2ae8b27  48ee9be392f28ae3a64518a070f4d06a   \n",
       "14  011575986092c30523ecb71ff10cb473  098c663630a7a81f7d7f42a2ce0b02d7   \n",
       "15  011575986092c30523ecb71ff10cb473  818430a64bb4e935b35f1f4da32612eb   \n",
       "16  011b4adcd54683b480c4d841250a987f  ed2067a9c1f79553088a3c67b99a9f97   \n",
       "17  011b4adcd54683b480c4d841250a987f  169e1fedd1319ca92e90e057e7123005   \n",
       "18  012452d40dafae4df401bced74cdb490  78540c45d4f971380710a35fa4ecc41b   \n",
       "19  012452d40dafae4df401bced74cdb490  bb50f2e236e5eea0100680137654686c   \n",
       "\n",
       "    review_score_y  \n",
       "0                5  \n",
       "1                4  \n",
       "2                5  \n",
       "3                5  \n",
       "4                1  \n",
       "5                5  \n",
       "6                1  \n",
       "7                5  \n",
       "8                4  \n",
       "9                4  \n",
       "10               5  \n",
       "11               3  \n",
       "12               5  \n",
       "13               3  \n",
       "14               3  \n",
       "15               4  \n",
       "16               4  \n",
       "17               5  \n",
       "18               4  \n",
       "19               5  "
      ]
     },
     "execution_count": 6,
     "metadata": {},
     "output_type": "execute_result"
    }
   ],
   "source": [
    "\n",
    "dataset = pd.merge(reviews_count, dataset, on='customer_unique_id')\n",
    "cols = ['customer_unique_id', 'product_id', 'review_score_y']\n",
    "dataset = dataset[cols]\n",
    "dataset.info()\n",
    "dataset.head(20)"
   ]
  },
  {
   "cell_type": "markdown",
   "metadata": {},
   "source": [
    "# KNN Algorithm"
   ]
  },
  {
   "cell_type": "code",
   "execution_count": 22,
   "metadata": {},
   "outputs": [
    {
     "name": "stdout",
     "output_type": "stream",
     "text": [
      "Computing the cosine similarity matrix...\n",
      "Done computing similarity matrix.\n"
     ]
    },
    {
     "data": {
      "text/plain": [
       "<surprise.prediction_algorithms.knns.KNNWithMeans at 0x175814f1bc8>"
      ]
     },
     "execution_count": 22,
     "metadata": {},
     "output_type": "execute_result"
    }
   ],
   "source": [
    "import io\n",
    "from surprise import KNNBaseline, KNNWithMeans\n",
    "from surprise import Dataset\n",
    "from surprise import Reader\n",
    "from surprise import accuracy\n",
    "from surprise.model_selection import train_test_split\n",
    "\n",
    "reader = Reader(rating_scale=(1,5))\n",
    "dataset_ecommerce = Dataset.load_from_df(dataset[['customer_unique_id', 'product_id', 'review_score_y']], reader)\n",
    "trainset, testset = train_test_split(dataset_ecommerce, test_size=.25)\n",
    "sim_options = {'name': 'cosine', 'user_based': True, 'min_support': 1}\n",
    "algo = KNNWithMeans(sim_options=sim_options)\n",
    "algo.fit(trainset)"
   ]
  },
  {
   "attachments": {
    "image.png": {
     "image/png": "[encoded data removed]"
    }
   },
   "cell_type": "markdown",
   "metadata": {},
   "source": [
    "![image.png](attachment:image.png)"
   ]
  },
  {
   "cell_type": "code",
   "execution_count": 23,
   "metadata": {},
   "outputs": [],
   "source": [
    "predictions = algo.test(testset, verbose = False)"
   ]
  },
  {
   "cell_type": "code",
   "execution_count": 24,
   "metadata": {},
   "outputs": [
    {
     "data": {
      "text/plain": [
       "2835"
      ]
     },
     "execution_count": 24,
     "metadata": {},
     "output_type": "execute_result"
    }
   ],
   "source": [
    "trainset.n_users"
   ]
  },
  {
   "cell_type": "code",
   "execution_count": 25,
   "metadata": {},
   "outputs": [],
   "source": [
    "def get_Iu(uid):\n",
    "    try:\n",
    "        return len(trainset.ur[trainset.to_inner_uid(uid)])\n",
    "    except ValueError:\n",
    "        return 0\n",
    "    \n",
    "    \n",
    "def get_Ui(iid):\n",
    "     try:\n",
    "        return len(trainset.ir[trainset.to_inner_iid(iid)])\n",
    "     except ValueError:\n",
    "        return 0\n",
    "\n",
    "\n",
    "df = pd.DataFrame(predictions, columns=['uid','iid','rui', 'est', 'details'])\n",
    "df['Iu'] = df.uid.apply(get_Iu) #number of items reviewed by given user\n",
    "df['Ui'] = df.iid.apply(get_Ui) #number of users that have reviewed given item\n",
    "df['err'] = abs(df.est - df.rui)"
   ]
  },
  {
   "cell_type": "code",
   "execution_count": 26,
   "metadata": {},
   "outputs": [
    {
     "data": {
      "text/html": [
       "<div>\n",
       "<style scoped>\n",
       "    .dataframe tbody tr th:only-of-type {\n",
       "        vertical-align: middle;\n",
       "    }\n",
       "\n",
       "    .dataframe tbody tr th {\n",
       "        vertical-align: top;\n",
       "    }\n",
       "\n",
       "    .dataframe thead th {\n",
       "        text-align: right;\n",
       "    }\n",
       "</style>\n",
       "<table border=\"1\" class=\"dataframe\">\n",
       "  <thead>\n",
       "    <tr style=\"text-align: right;\">\n",
       "      <th></th>\n",
       "      <th>uid</th>\n",
       "      <th>iid</th>\n",
       "      <th>rui</th>\n",
       "      <th>est</th>\n",
       "      <th>details</th>\n",
       "      <th>Iu</th>\n",
       "      <th>Ui</th>\n",
       "      <th>err</th>\n",
       "    </tr>\n",
       "  </thead>\n",
       "  <tbody>\n",
       "    <tr>\n",
       "      <th>0</th>\n",
       "      <td>d0145502f422d4a9387f75186674f29a</td>\n",
       "      <td>0c859e9bb0591751e168d476ab0bb6e1</td>\n",
       "      <td>4.0</td>\n",
       "      <td>4.121592</td>\n",
       "      <td>{'was_impossible': True, 'reason': 'User and/o...</td>\n",
       "      <td>1</td>\n",
       "      <td>0</td>\n",
       "      <td>0.121592</td>\n",
       "    </tr>\n",
       "    <tr>\n",
       "      <th>1</th>\n",
       "      <td>cef29e793e232d30250331804cdb7000</td>\n",
       "      <td>060965aa6dfa817b80abda0c9413cc77</td>\n",
       "      <td>5.0</td>\n",
       "      <td>4.121592</td>\n",
       "      <td>{'was_impossible': True, 'reason': 'User and/o...</td>\n",
       "      <td>1</td>\n",
       "      <td>0</td>\n",
       "      <td>0.878408</td>\n",
       "    </tr>\n",
       "    <tr>\n",
       "      <th>2</th>\n",
       "      <td>3aa71d539bb760f054b280604391602a</td>\n",
       "      <td>4b6b3a7072d549354c3743dedbf4170a</td>\n",
       "      <td>5.0</td>\n",
       "      <td>4.121592</td>\n",
       "      <td>{'was_impossible': True, 'reason': 'User and/o...</td>\n",
       "      <td>1</td>\n",
       "      <td>0</td>\n",
       "      <td>0.878408</td>\n",
       "    </tr>\n",
       "    <tr>\n",
       "      <th>3</th>\n",
       "      <td>3e43e6105506432c953e165fb2acf44c</td>\n",
       "      <td>957f6d6b55b78746f89e976cba785440</td>\n",
       "      <td>4.0</td>\n",
       "      <td>2.571429</td>\n",
       "      <td>{'actual_k': 0, 'was_impossible': False}</td>\n",
       "      <td>7</td>\n",
       "      <td>1</td>\n",
       "      <td>1.428571</td>\n",
       "    </tr>\n",
       "    <tr>\n",
       "      <th>4</th>\n",
       "      <td>c17526359e1068290ebf7dd22a856de7</td>\n",
       "      <td>853ece231e7141c4e815d687c68c6b7d</td>\n",
       "      <td>5.0</td>\n",
       "      <td>4.121592</td>\n",
       "      <td>{'was_impossible': True, 'reason': 'User and/o...</td>\n",
       "      <td>1</td>\n",
       "      <td>0</td>\n",
       "      <td>0.878408</td>\n",
       "    </tr>\n",
       "  </tbody>\n",
       "</table>\n",
       "</div>"
      ],
      "text/plain": [
       "                                uid                               iid  rui  \\\n",
       "0  d0145502f422d4a9387f75186674f29a  0c859e9bb0591751e168d476ab0bb6e1  4.0   \n",
       "1  cef29e793e232d30250331804cdb7000  060965aa6dfa817b80abda0c9413cc77  5.0   \n",
       "2  3aa71d539bb760f054b280604391602a  4b6b3a7072d549354c3743dedbf4170a  5.0   \n",
       "3  3e43e6105506432c953e165fb2acf44c  957f6d6b55b78746f89e976cba785440  4.0   \n",
       "4  c17526359e1068290ebf7dd22a856de7  853ece231e7141c4e815d687c68c6b7d  5.0   \n",
       "\n",
       "        est                                            details  Iu  Ui  \\\n",
       "0  4.121592  {'was_impossible': True, 'reason': 'User and/o...   1   0   \n",
       "1  4.121592  {'was_impossible': True, 'reason': 'User and/o...   1   0   \n",
       "2  4.121592  {'was_impossible': True, 'reason': 'User and/o...   1   0   \n",
       "3  2.571429           {'actual_k': 0, 'was_impossible': False}   7   1   \n",
       "4  4.121592  {'was_impossible': True, 'reason': 'User and/o...   1   0   \n",
       "\n",
       "        err  \n",
       "0  0.121592  \n",
       "1  0.878408  \n",
       "2  0.878408  \n",
       "3  1.428571  \n",
       "4  0.878408  "
      ]
     },
     "execution_count": 26,
     "metadata": {},
     "output_type": "execute_result"
    }
   ],
   "source": [
    "df.head()"
   ]
  },
  {
   "cell_type": "code",
   "execution_count": 27,
   "metadata": {},
   "outputs": [
    {
     "data": {
      "text/plain": [
       "0.891158446370583"
      ]
     },
     "execution_count": 27,
     "metadata": {},
     "output_type": "execute_result"
    }
   ],
   "source": [
    "df.err.mean()"
   ]
  },
  {
   "cell_type": "code",
   "execution_count": 28,
   "metadata": {},
   "outputs": [],
   "source": [
    "best_predictions = df.sort_values(by='err')[:10]\n",
    "worst_predictions = df.sort_values(by='err')[-10:]"
   ]
  },
  {
   "cell_type": "code",
   "execution_count": 29,
   "metadata": {},
   "outputs": [
    {
     "data": {
      "text/html": [
       "<div>\n",
       "<style scoped>\n",
       "    .dataframe tbody tr th:only-of-type {\n",
       "        vertical-align: middle;\n",
       "    }\n",
       "\n",
       "    .dataframe tbody tr th {\n",
       "        vertical-align: top;\n",
       "    }\n",
       "\n",
       "    .dataframe thead th {\n",
       "        text-align: right;\n",
       "    }\n",
       "</style>\n",
       "<table border=\"1\" class=\"dataframe\">\n",
       "  <thead>\n",
       "    <tr style=\"text-align: right;\">\n",
       "      <th></th>\n",
       "      <th>uid</th>\n",
       "      <th>iid</th>\n",
       "      <th>rui</th>\n",
       "      <th>est</th>\n",
       "      <th>details</th>\n",
       "      <th>Iu</th>\n",
       "      <th>Ui</th>\n",
       "      <th>err</th>\n",
       "    </tr>\n",
       "  </thead>\n",
       "  <tbody>\n",
       "    <tr>\n",
       "      <th>1170</th>\n",
       "      <td>2b0d2a4ffe3906cd18019c2463cfeee9</td>\n",
       "      <td>4c77d14c542fcd857dddc3df2e82329c</td>\n",
       "      <td>5.0</td>\n",
       "      <td>5.0</td>\n",
       "      <td>{'actual_k': 1, 'was_impossible': False}</td>\n",
       "      <td>1</td>\n",
       "      <td>1</td>\n",
       "      <td>0.0</td>\n",
       "    </tr>\n",
       "    <tr>\n",
       "      <th>1024</th>\n",
       "      <td>f804ed90360900357b6db9d7635d275d</td>\n",
       "      <td>5f21301936c11698db6aee5444190da0</td>\n",
       "      <td>5.0</td>\n",
       "      <td>5.0</td>\n",
       "      <td>{'actual_k': 0, 'was_impossible': False}</td>\n",
       "      <td>1</td>\n",
       "      <td>1</td>\n",
       "      <td>0.0</td>\n",
       "    </tr>\n",
       "    <tr>\n",
       "      <th>370</th>\n",
       "      <td>5b8a75e77489899ad9e6d57273aafd7f</td>\n",
       "      <td>9fc0c73ce4d0eaaead44e81eeefebeb0</td>\n",
       "      <td>5.0</td>\n",
       "      <td>5.0</td>\n",
       "      <td>{'actual_k': 1, 'was_impossible': False}</td>\n",
       "      <td>2</td>\n",
       "      <td>1</td>\n",
       "      <td>0.0</td>\n",
       "    </tr>\n",
       "    <tr>\n",
       "      <th>367</th>\n",
       "      <td>e8569c57efe3adf347b3e92ec04d1f91</td>\n",
       "      <td>7c1bd920dbdf22470b68bde975dd3ccf</td>\n",
       "      <td>5.0</td>\n",
       "      <td>5.0</td>\n",
       "      <td>{'actual_k': 3, 'was_impossible': False}</td>\n",
       "      <td>2</td>\n",
       "      <td>26</td>\n",
       "      <td>0.0</td>\n",
       "    </tr>\n",
       "    <tr>\n",
       "      <th>366</th>\n",
       "      <td>ac78e99ad54cdae633e5dd5d10eef34a</td>\n",
       "      <td>47cd48073d67f91f09cb5ef9496c920b</td>\n",
       "      <td>5.0</td>\n",
       "      <td>5.0</td>\n",
       "      <td>{'actual_k': 4, 'was_impossible': False}</td>\n",
       "      <td>1</td>\n",
       "      <td>4</td>\n",
       "      <td>0.0</td>\n",
       "    </tr>\n",
       "    <tr>\n",
       "      <th>364</th>\n",
       "      <td>9cc5a07f169a1606fd347a56683e6ea6</td>\n",
       "      <td>24c66f106f642621e524291a895c9032</td>\n",
       "      <td>5.0</td>\n",
       "      <td>5.0</td>\n",
       "      <td>{'actual_k': 2, 'was_impossible': False}</td>\n",
       "      <td>3</td>\n",
       "      <td>2</td>\n",
       "      <td>0.0</td>\n",
       "    </tr>\n",
       "    <tr>\n",
       "      <th>363</th>\n",
       "      <td>80e73006367ee828a4f5c2531aa222e1</td>\n",
       "      <td>0820af09ddc75b84841b1fab4da4be9b</td>\n",
       "      <td>5.0</td>\n",
       "      <td>5.0</td>\n",
       "      <td>{'actual_k': 1, 'was_impossible': False}</td>\n",
       "      <td>1</td>\n",
       "      <td>1</td>\n",
       "      <td>0.0</td>\n",
       "    </tr>\n",
       "    <tr>\n",
       "      <th>362</th>\n",
       "      <td>7ad04c71bfca958e6f2ec44bce34e2da</td>\n",
       "      <td>3e9fecd898d8fc598fb18399c2af0248</td>\n",
       "      <td>5.0</td>\n",
       "      <td>5.0</td>\n",
       "      <td>{'actual_k': 1, 'was_impossible': False}</td>\n",
       "      <td>1</td>\n",
       "      <td>1</td>\n",
       "      <td>0.0</td>\n",
       "    </tr>\n",
       "    <tr>\n",
       "      <th>360</th>\n",
       "      <td>76a0491dd70c125840fa259f00dfc351</td>\n",
       "      <td>422879e10f46682990de24d770e7f83d</td>\n",
       "      <td>5.0</td>\n",
       "      <td>5.0</td>\n",
       "      <td>{'actual_k': 1, 'was_impossible': False}</td>\n",
       "      <td>1</td>\n",
       "      <td>16</td>\n",
       "      <td>0.0</td>\n",
       "    </tr>\n",
       "    <tr>\n",
       "      <th>1033</th>\n",
       "      <td>c4cf9b10d2668bfabb498d93004ab4a0</td>\n",
       "      <td>5131368354b35ed441caa8ca27244f16</td>\n",
       "      <td>5.0</td>\n",
       "      <td>5.0</td>\n",
       "      <td>{'actual_k': 1, 'was_impossible': False}</td>\n",
       "      <td>1</td>\n",
       "      <td>1</td>\n",
       "      <td>0.0</td>\n",
       "    </tr>\n",
       "  </tbody>\n",
       "</table>\n",
       "</div>"
      ],
      "text/plain": [
       "                                   uid                               iid  rui  \\\n",
       "1170  2b0d2a4ffe3906cd18019c2463cfeee9  4c77d14c542fcd857dddc3df2e82329c  5.0   \n",
       "1024  f804ed90360900357b6db9d7635d275d  5f21301936c11698db6aee5444190da0  5.0   \n",
       "370   5b8a75e77489899ad9e6d57273aafd7f  9fc0c73ce4d0eaaead44e81eeefebeb0  5.0   \n",
       "367   e8569c57efe3adf347b3e92ec04d1f91  7c1bd920dbdf22470b68bde975dd3ccf  5.0   \n",
       "366   ac78e99ad54cdae633e5dd5d10eef34a  47cd48073d67f91f09cb5ef9496c920b  5.0   \n",
       "364   9cc5a07f169a1606fd347a56683e6ea6  24c66f106f642621e524291a895c9032  5.0   \n",
       "363   80e73006367ee828a4f5c2531aa222e1  0820af09ddc75b84841b1fab4da4be9b  5.0   \n",
       "362   7ad04c71bfca958e6f2ec44bce34e2da  3e9fecd898d8fc598fb18399c2af0248  5.0   \n",
       "360   76a0491dd70c125840fa259f00dfc351  422879e10f46682990de24d770e7f83d  5.0   \n",
       "1033  c4cf9b10d2668bfabb498d93004ab4a0  5131368354b35ed441caa8ca27244f16  5.0   \n",
       "\n",
       "      est                                   details  Iu  Ui  err  \n",
       "1170  5.0  {'actual_k': 1, 'was_impossible': False}   1   1  0.0  \n",
       "1024  5.0  {'actual_k': 0, 'was_impossible': False}   1   1  0.0  \n",
       "370   5.0  {'actual_k': 1, 'was_impossible': False}   2   1  0.0  \n",
       "367   5.0  {'actual_k': 3, 'was_impossible': False}   2  26  0.0  \n",
       "366   5.0  {'actual_k': 4, 'was_impossible': False}   1   4  0.0  \n",
       "364   5.0  {'actual_k': 2, 'was_impossible': False}   3   2  0.0  \n",
       "363   5.0  {'actual_k': 1, 'was_impossible': False}   1   1  0.0  \n",
       "362   5.0  {'actual_k': 1, 'was_impossible': False}   1   1  0.0  \n",
       "360   5.0  {'actual_k': 1, 'was_impossible': False}   1  16  0.0  \n",
       "1033  5.0  {'actual_k': 1, 'was_impossible': False}   1   1  0.0  "
      ]
     },
     "execution_count": 29,
     "metadata": {},
     "output_type": "execute_result"
    }
   ],
   "source": [
    "best_predictions"
   ]
  },
  {
   "cell_type": "code",
   "execution_count": 30,
   "metadata": {},
   "outputs": [
    {
     "data": {
      "text/html": [
       "<div>\n",
       "<style scoped>\n",
       "    .dataframe tbody tr th:only-of-type {\n",
       "        vertical-align: middle;\n",
       "    }\n",
       "\n",
       "    .dataframe tbody tr th {\n",
       "        vertical-align: top;\n",
       "    }\n",
       "\n",
       "    .dataframe thead th {\n",
       "        text-align: right;\n",
       "    }\n",
       "</style>\n",
       "<table border=\"1\" class=\"dataframe\">\n",
       "  <thead>\n",
       "    <tr style=\"text-align: right;\">\n",
       "      <th></th>\n",
       "      <th>uid</th>\n",
       "      <th>iid</th>\n",
       "      <th>rui</th>\n",
       "      <th>est</th>\n",
       "      <th>details</th>\n",
       "      <th>Iu</th>\n",
       "      <th>Ui</th>\n",
       "      <th>err</th>\n",
       "    </tr>\n",
       "  </thead>\n",
       "  <tbody>\n",
       "    <tr>\n",
       "      <th>1226</th>\n",
       "      <td>987fadd385777d8f27edac709bc9fb61</td>\n",
       "      <td>f56e93f8bec270456dd5ec3272bd42f3</td>\n",
       "      <td>5.0</td>\n",
       "      <td>1.0</td>\n",
       "      <td>{'actual_k': 1, 'was_impossible': False}</td>\n",
       "      <td>1</td>\n",
       "      <td>1</td>\n",
       "      <td>4.0</td>\n",
       "    </tr>\n",
       "    <tr>\n",
       "      <th>867</th>\n",
       "      <td>fe81bb32c243a86b2f86fbf053fe6140</td>\n",
       "      <td>e2bb00220a167d9e60b6776ac33717bc</td>\n",
       "      <td>1.0</td>\n",
       "      <td>5.0</td>\n",
       "      <td>{'actual_k': 1, 'was_impossible': False}</td>\n",
       "      <td>4</td>\n",
       "      <td>1</td>\n",
       "      <td>4.0</td>\n",
       "    </tr>\n",
       "    <tr>\n",
       "      <th>268</th>\n",
       "      <td>217394922e43c19740ea4464e63ca8e0</td>\n",
       "      <td>efb23bb2d728864f9d7d3cdad802ca87</td>\n",
       "      <td>1.0</td>\n",
       "      <td>5.0</td>\n",
       "      <td>{'actual_k': 1, 'was_impossible': False}</td>\n",
       "      <td>1</td>\n",
       "      <td>1</td>\n",
       "      <td>4.0</td>\n",
       "    </tr>\n",
       "    <tr>\n",
       "      <th>1060</th>\n",
       "      <td>bce006e903be688f122a39f45b210090</td>\n",
       "      <td>99f5b2240b82bf9387e5cf2fc0335b08</td>\n",
       "      <td>5.0</td>\n",
       "      <td>1.0</td>\n",
       "      <td>{'actual_k': 0, 'was_impossible': False}</td>\n",
       "      <td>1</td>\n",
       "      <td>6</td>\n",
       "      <td>4.0</td>\n",
       "    </tr>\n",
       "    <tr>\n",
       "      <th>1397</th>\n",
       "      <td>dbd74164682e2397d489169439362184</td>\n",
       "      <td>41801d2ed5124923137ec39aeeea1e93</td>\n",
       "      <td>5.0</td>\n",
       "      <td>1.0</td>\n",
       "      <td>{'actual_k': 1, 'was_impossible': False}</td>\n",
       "      <td>2</td>\n",
       "      <td>1</td>\n",
       "      <td>4.0</td>\n",
       "    </tr>\n",
       "    <tr>\n",
       "      <th>473</th>\n",
       "      <td>d05fdf65460ea1bf8735cd5843c3d97d</td>\n",
       "      <td>1612209b0b37fbe80e1e8e1b7d19ca1d</td>\n",
       "      <td>5.0</td>\n",
       "      <td>1.0</td>\n",
       "      <td>{'actual_k': 0, 'was_impossible': False}</td>\n",
       "      <td>1</td>\n",
       "      <td>2</td>\n",
       "      <td>4.0</td>\n",
       "    </tr>\n",
       "    <tr>\n",
       "      <th>269</th>\n",
       "      <td>ae11ab40faeb1f8b85f6308e052bd710</td>\n",
       "      <td>f40876e0ef3cd5f9132b1f16b04b1346</td>\n",
       "      <td>1.0</td>\n",
       "      <td>5.0</td>\n",
       "      <td>{'actual_k': 3, 'was_impossible': False}</td>\n",
       "      <td>1</td>\n",
       "      <td>3</td>\n",
       "      <td>4.0</td>\n",
       "    </tr>\n",
       "    <tr>\n",
       "      <th>162</th>\n",
       "      <td>efd22f5f8fc7e5035a4f48bd92c0c69c</td>\n",
       "      <td>6803077179d24889430188e03fafd31a</td>\n",
       "      <td>5.0</td>\n",
       "      <td>1.0</td>\n",
       "      <td>{'actual_k': 0, 'was_impossible': False}</td>\n",
       "      <td>1</td>\n",
       "      <td>2</td>\n",
       "      <td>4.0</td>\n",
       "    </tr>\n",
       "    <tr>\n",
       "      <th>1355</th>\n",
       "      <td>1da09dd64e235e7c2f29a4faff33535c</td>\n",
       "      <td>bb90206fa281c20f0b4c42a2393b54dd</td>\n",
       "      <td>5.0</td>\n",
       "      <td>1.0</td>\n",
       "      <td>{'actual_k': 0, 'was_impossible': False}</td>\n",
       "      <td>1</td>\n",
       "      <td>1</td>\n",
       "      <td>4.0</td>\n",
       "    </tr>\n",
       "    <tr>\n",
       "      <th>1113</th>\n",
       "      <td>72061fff095d8325b311ea24e2f4a2b5</td>\n",
       "      <td>704ef63ad0ac345842ea734060a83db2</td>\n",
       "      <td>1.0</td>\n",
       "      <td>5.0</td>\n",
       "      <td>{'actual_k': 0, 'was_impossible': False}</td>\n",
       "      <td>1</td>\n",
       "      <td>1</td>\n",
       "      <td>4.0</td>\n",
       "    </tr>\n",
       "  </tbody>\n",
       "</table>\n",
       "</div>"
      ],
      "text/plain": [
       "                                   uid                               iid  rui  \\\n",
       "1226  987fadd385777d8f27edac709bc9fb61  f56e93f8bec270456dd5ec3272bd42f3  5.0   \n",
       "867   fe81bb32c243a86b2f86fbf053fe6140  e2bb00220a167d9e60b6776ac33717bc  1.0   \n",
       "268   217394922e43c19740ea4464e63ca8e0  efb23bb2d728864f9d7d3cdad802ca87  1.0   \n",
       "1060  bce006e903be688f122a39f45b210090  99f5b2240b82bf9387e5cf2fc0335b08  5.0   \n",
       "1397  dbd74164682e2397d489169439362184  41801d2ed5124923137ec39aeeea1e93  5.0   \n",
       "473   d05fdf65460ea1bf8735cd5843c3d97d  1612209b0b37fbe80e1e8e1b7d19ca1d  5.0   \n",
       "269   ae11ab40faeb1f8b85f6308e052bd710  f40876e0ef3cd5f9132b1f16b04b1346  1.0   \n",
       "162   efd22f5f8fc7e5035a4f48bd92c0c69c  6803077179d24889430188e03fafd31a  5.0   \n",
       "1355  1da09dd64e235e7c2f29a4faff33535c  bb90206fa281c20f0b4c42a2393b54dd  5.0   \n",
       "1113  72061fff095d8325b311ea24e2f4a2b5  704ef63ad0ac345842ea734060a83db2  1.0   \n",
       "\n",
       "      est                                   details  Iu  Ui  err  \n",
       "1226  1.0  {'actual_k': 1, 'was_impossible': False}   1   1  4.0  \n",
       "867   5.0  {'actual_k': 1, 'was_impossible': False}   4   1  4.0  \n",
       "268   5.0  {'actual_k': 1, 'was_impossible': False}   1   1  4.0  \n",
       "1060  1.0  {'actual_k': 0, 'was_impossible': False}   1   6  4.0  \n",
       "1397  1.0  {'actual_k': 1, 'was_impossible': False}   2   1  4.0  \n",
       "473   1.0  {'actual_k': 0, 'was_impossible': False}   1   2  4.0  \n",
       "269   5.0  {'actual_k': 3, 'was_impossible': False}   1   3  4.0  \n",
       "162   1.0  {'actual_k': 0, 'was_impossible': False}   1   2  4.0  \n",
       "1355  1.0  {'actual_k': 0, 'was_impossible': False}   1   1  4.0  \n",
       "1113  5.0  {'actual_k': 0, 'was_impossible': False}   1   1  4.0  "
      ]
     },
     "execution_count": 30,
     "metadata": {},
     "output_type": "execute_result"
    }
   ],
   "source": [
    "worst_predictions"
   ]
  },
  {
   "cell_type": "code",
   "execution_count": 31,
   "metadata": {},
   "outputs": [
    {
     "data": {
      "text/plain": [
       "0     864\n",
       "1     381\n",
       "2     155\n",
       "3      86\n",
       "4      41\n",
       "6      27\n",
       "42     21\n",
       "7      18\n",
       "5      17\n",
       "24     16\n",
       "8      13\n",
       "26     10\n",
       "16      8\n",
       "19      8\n",
       "18      7\n",
       "20      7\n",
       "33      6\n",
       "25      5\n",
       "11      3\n",
       "9       3\n",
       "14      2\n",
       "10      2\n",
       "Name: Ui, dtype: int64"
      ]
     },
     "execution_count": 31,
     "metadata": {},
     "output_type": "execute_result"
    }
   ],
   "source": [
    "df.Ui.value_counts()"
   ]
  },
  {
   "cell_type": "code",
   "execution_count": 32,
   "metadata": {},
   "outputs": [
    {
     "data": {
      "text/plain": [
       "1     1035\n",
       "0      329\n",
       "2      247\n",
       "3       55\n",
       "4       21\n",
       "5        6\n",
       "12       4\n",
       "7        2\n",
       "6        1\n",
       "Name: Iu, dtype: int64"
      ]
     },
     "execution_count": 32,
     "metadata": {},
     "output_type": "execute_result"
    }
   ],
   "source": [
    "df.Iu.value_counts()"
   ]
  },
  {
   "cell_type": "code",
   "execution_count": 33,
   "metadata": {},
   "outputs": [
    {
     "name": "stdout",
     "output_type": "stream",
     "text": [
      "RMSE: 1.3104\n"
     ]
    }
   ],
   "source": [
    "from surprise import accuracy\n",
    "predictions = algo.test(testset)\n",
    "test = accuracy.rmse(predictions) #root mean squared error"
   ]
  },
  {
   "cell_type": "code",
   "execution_count": 34,
   "metadata": {},
   "outputs": [
    {
     "name": "stdout",
     "output_type": "stream",
     "text": [
      "MAE:  0.8912\n"
     ]
    }
   ],
   "source": [
    "test = accuracy.mae(predictions) #Mean absolute Error"
   ]
  },
  {
   "cell_type": "markdown",
   "metadata": {},
   "source": [
    "# KNN Algorithm (Movielens Database)"
   ]
  },
  {
   "cell_type": "code",
   "execution_count": null,
   "metadata": {},
   "outputs": [],
   "source": [
    "import io\n",
    "from surprise import KNNBaseline, KNNWithMeans\n",
    "from surprise import Dataset\n",
    "from surprise import Reader\n",
    "from surprise import accuracy\n",
    "from surprise.model_selection import train_test_split\n",
    "\n",
    "reader = Reader(rating_scale=(1,5))\n",
    "dataset_movielens = Dataset.load_builtin('ml-100k')\n",
    "trainset = dataset_movielens.build_full_trainset()\n",
    "#trainset, testset = train_test_split(dataset_surprise, test_size=.25)\n",
    "sim_options = {'name': 'cosine', 'user_based': True, 'min_support': 5}\n",
    "algo = KNNWithMeans(sim_options=sim_options)\n",
    "algo.fit(trainset)\n",
    "trainset = algo.trainset"
   ]
  },
  {
   "attachments": {
    "image.png": {
     "image/png": "[encoded data removed]"
    }
   },
   "cell_type": "markdown",
   "metadata": {},
   "source": [
    "![image.png](attachment:image.png)"
   ]
  },
  {
   "cell_type": "code",
   "execution_count": null,
   "metadata": {
    "scrolled": true
   },
   "outputs": [],
   "source": [
    "testset = trainset.build_testset() #all the ratings in the trainset"
   ]
  },
  {
   "cell_type": "code",
   "execution_count": null,
   "metadata": {},
   "outputs": [],
   "source": [
    "predictions = algo.test(testset, verbose = False)"
   ]
  },
  {
   "cell_type": "code",
   "execution_count": null,
   "metadata": {},
   "outputs": [],
   "source": [
    "trainset.n_users"
   ]
  },
  {
   "cell_type": "code",
   "execution_count": null,
   "metadata": {},
   "outputs": [],
   "source": [
    "def get_Iu(uid):\n",
    "    try:\n",
    "        return len(trainset.ur[trainset.to_inner_uid(uid)])\n",
    "    except ValueError:\n",
    "        return 0\n",
    "    \n",
    "    \n",
    "def get_Ui(iid):\n",
    "     try:\n",
    "        return len(trainset.ir[trainset.to_inner_iid(iid)])\n",
    "     except ValueError:\n",
    "        return 0\n",
    "\n",
    "\n",
    "df_movielens = pd.DataFrame(predictions, columns=['uid','iid','rui', 'est', 'details'])\n",
    "df_movielens['Iu'] = df_movielens.uid.apply(get_Iu) #number of items reviewed by given user\n",
    "df_movielens['Ui'] = df_movielens.iid.apply(get_Ui) #number of users that have reviewed given item\n",
    "df_movielens['err'] = abs(df_movielens.est - df_movielens.rui)"
   ]
  },
  {
   "cell_type": "code",
   "execution_count": null,
   "metadata": {},
   "outputs": [],
   "source": [
    "df_movielens.head()"
   ]
  },
  {
   "cell_type": "code",
   "execution_count": null,
   "metadata": {},
   "outputs": [],
   "source": [
    "df_movielens.err.mean()"
   ]
  },
  {
   "cell_type": "code",
   "execution_count": null,
   "metadata": {},
   "outputs": [],
   "source": [
    "best_predictions = df_movielens.sort_values(by='err')[:10]\n",
    "worst_predictions = df_movielens.sort_values(by='err')[-10:]"
   ]
  },
  {
   "cell_type": "code",
   "execution_count": null,
   "metadata": {
    "scrolled": true
   },
   "outputs": [],
   "source": [
    "best_predictions"
   ]
  },
  {
   "cell_type": "code",
   "execution_count": null,
   "metadata": {},
   "outputs": [],
   "source": [
    "worst_predictions"
   ]
  },
  {
   "cell_type": "code",
   "execution_count": null,
   "metadata": {},
   "outputs": [],
   "source": [
    "df_movielens.Ui.value_counts()"
   ]
  },
  {
   "cell_type": "code",
   "execution_count": null,
   "metadata": {},
   "outputs": [],
   "source": [
    "df_movielens.Iu.value_counts()"
   ]
  },
  {
   "cell_type": "code",
   "execution_count": null,
   "metadata": {},
   "outputs": [],
   "source": [
    "from surprise import accuracy\n",
    "test = accuracy.rmse(predictions) #root mean squared error"
   ]
  },
  {
   "cell_type": "code",
   "execution_count": null,
   "metadata": {},
   "outputs": [],
   "source": [
    "test = accuracy.mae(predictions) #Mean absolute Error"
   ]
  },
  {
   "cell_type": "markdown",
   "metadata": {},
   "source": [
    "# Vergleich beider Datensets"
   ]
  },
  {
   "cell_type": "code",
   "execution_count": null,
   "metadata": {},
   "outputs": [],
   "source": [
    "dataset.head()"
   ]
  },
  {
   "cell_type": "code",
   "execution_count": null,
   "metadata": {},
   "outputs": [],
   "source": [
    "dataset['review_score_y'].value_counts()"
   ]
  },
  {
   "cell_type": "code",
   "execution_count": null,
   "metadata": {
    "scrolled": true
   },
   "outputs": [],
   "source": [
    "import matplotlib.pyplot as plt\n",
    "import matplotlib\n",
    "\n",
    "matplotlib.style.use('ggplot')\n",
    "\n",
    "figure, (ax1, ax2) = plt.subplots(1, 2)\n",
    "\n",
    "df.est.plot(kind='hist', title = 'KNN (Olist)', ax = ax1)\n",
    "df_movielens.est.plot(kind='hist', title = 'KNN (Movielens)', ax = ax2)"
   ]
  },
  {
   "cell_type": "markdown",
   "metadata": {},
   "source": [
    "# GridSearchCV (Parameter)"
   ]
  },
  {
   "cell_type": "code",
   "execution_count": null,
   "metadata": {
    "scrolled": true
   },
   "outputs": [],
   "source": [
    "from surprise.model_selection import GridSearchCV\n",
    "\n",
    "sim_options = {\"name\": [\"msd\", \"cosine\"], \"min_support\": [1,2,3,4,5], \"user_based\": [False, True]}\n",
    "\n",
    "param_grid = {\"sim_options\": sim_options}\n",
    "\n",
    "gs = GridSearchCV(KNNWithMeans, param_grid, measures=[\"rmse\", \"mae\"], cv=3)\n",
    "gs.fit(dataset_ecommerce)\n",
    "\n",
    "print(gs.best_score[\"rmse\"])\n",
    "print(gs.best_params[\"rmse\"])"
   ]
  },
  {
   "cell_type": "code",
   "execution_count": null,
   "metadata": {
    "scrolled": true
   },
   "outputs": [],
   "source": [
    "from surprise.model_selection import GridSearchCV\n",
    "\n",
    "sim_options = {\"name\": [\"msd\", \"cosine\"], \"min_support\": [1,2,3,4,5], \"user_based\": [False, True]}\n",
    "\n",
    "param_grid = {\"sim_options\": sim_options}\n",
    "\n",
    "gs = GridSearchCV(KNNWithMeans, param_grid, measures=[\"rmse\", \"mae\"], cv=3)\n",
    "gs.fit(dataset_movielens)\n",
    "\n",
    "print(gs.best_score[\"rmse\"])\n",
    "print(gs.best_params[\"rmse\"])"
   ]
  },
  {
   "cell_type": "markdown",
   "metadata": {},
   "source": [
    "# KNN with Means (Movielens) + Anti_testset"
   ]
  },
  {
   "cell_type": "code",
   "execution_count": null,
   "metadata": {},
   "outputs": [],
   "source": [
    "import io\n",
    "from surprise import KNNBaseline, KNNWithMeans\n",
    "from surprise import Dataset\n",
    "from surprise import Reader\n",
    "from surprise import accuracy\n",
    "from surprise.model_selection import train_test_split\n",
    "\n",
    "reader = Reader(rating_scale=(1,5))\n",
    "dataset_movielens = Dataset.load_builtin('ml-100k')\n",
    "trainset = dataset_movielens.build_full_trainset()\n",
    "#trainset, testset = train_test_split(dataset_surprise, test_size=.25)\n",
    "sim_options = {'name': 'cosine', 'user_based': True, 'min_support': 5}\n",
    "algo = KNNWithMeans(sim_options=sim_options)\n",
    "algo.fit(trainset)\n",
    "trainset = algo.trainset"
   ]
  },
  {
   "cell_type": "code",
   "execution_count": null,
   "metadata": {
    "scrolled": true
   },
   "outputs": [],
   "source": [
    "testset = trainset.build_anti_testset() #all the ratings in the trainset"
   ]
  },
  {
   "cell_type": "code",
   "execution_count": null,
   "metadata": {},
   "outputs": [],
   "source": [
    "predictions = algo.test(testset, verbose = False)"
   ]
  },
  {
   "cell_type": "code",
   "execution_count": null,
   "metadata": {},
   "outputs": [],
   "source": []
  },
  {
   "cell_type": "markdown",
   "metadata": {},
   "source": [
    "# KNN Algorithm (with Cross-validation)"
   ]
  },
  {
   "cell_type": "code",
   "execution_count": null,
   "metadata": {},
   "outputs": [],
   "source": [
    "import io\n",
    "from surprise import KNNBaseline, KNNWithMeans\n",
    "from surprise import Dataset\n",
    "from surprise import Reader\n",
    "from surprise import accuracy\n",
    "from surprise.model_selection import train_test_split\n",
    "from surprise.model_selection import cross_validate\n",
    "\n",
    "reader = Reader(rating_scale=(1,5))\n",
    "dataset_ecommerce = Dataset.load_from_df(dataset[['customer_unique_id', 'product_id', 'review_score_y']], reader)\n",
    "#trainset = dataset_ecommerce.build_full_trainset()\n",
    "#trainset, testset = train_test_split(dataset_surprise, test_size=.25)\n",
    "sim_options = {'name': 'cosine', 'user_based': True, 'min_support': 1}\n",
    "algo = KNNWithMeans(sim_options=sim_options)\n",
    "\n",
    "cross_validate(algo, dataset_ecommerce, measures=['RMSE', 'MAE'], cv=5, verbose=True)\n",
    "#algo.fit(trainset)\n",
    "#trainset = algo.trainset"
   ]
  },
  {
   "attachments": {
    "image.png": {
     "image/png": "[encoded data removed]"
    }
   },
   "cell_type": "markdown",
   "metadata": {},
   "source": [
    "![image.png](attachment:image.png)"
   ]
  },
  {
   "cell_type": "markdown",
   "metadata": {},
   "source": [
    "# KNN Algorithm (Full Trainset vs. Split_Trainset_Testset)"
   ]
  },
  {
   "cell_type": "code",
   "execution_count": null,
   "metadata": {},
   "outputs": [],
   "source": [
    "import io\n",
    "from surprise import KNNBaseline, KNNWithMeans\n",
    "from surprise import Dataset\n",
    "from surprise import Reader\n",
    "from surprise import accuracy\n",
    "from surprise.model_selection import train_test_split\n",
    "from surprise.model_selection import cross_validate\n",
    "from surprise.model_selection import split\n",
    "from surprise.model_selection import KFold\n",
    "\n",
    "reader = Reader(rating_scale=(1,5))\n",
    "dataset_ecommerce = Dataset.load_from_df(dataset[['customer_unique_id', 'product_id', 'review_score_y']], reader)\n",
    "sim_options = {'name': 'cosine', 'user_based': True, 'min_support': 1}\n",
    "algo = KNNWithMeans(sim_options=sim_options)\n",
    "\n",
    "kf = KFold(n_splits=3)\n",
    "\n",
    "for trainset, testset in kf.split(dataset_ecommerce):\n",
    "    algo.fit(trainset)\n",
    "    predictions = algo.test(testset)\n",
    "    accuracy.rmse(predictions, verbose=True)"
   ]
  },
  {
   "cell_type": "code",
   "execution_count": null,
   "metadata": {},
   "outputs": [],
   "source": [
    "from surprise.model_selection import GridSearchCV\n",
    "\n",
    "sim_options = {\"name\": [\"msd\", \"cosine\"], \"min_support\": [1,2], \"user_based\": [False, True]}\n",
    "\n",
    "param_grid = {\"sim_options\": sim_options}\n",
    "\n",
    "gs = GridSearchCV(KNNWithMeans, param_grid, measures=[\"rmse\", \"mae\"], cv=3)\n",
    "gs.fit(dataset_ecommerce)\n",
    "\n",
    "print(gs.best_score[\"rmse\"])\n",
    "print(gs.best_params[\"rmse\"])\n",
    "\n",
    "algo = gs.best_estimator['rmse']\n",
    "trainset = dataset_ecommerce.build_full_trainset() #Do not split the dataset into folds and just return a trainset as is, built from the wohle dataset.\n",
    "algo.fit(trainset)"
   ]
  },
  {
   "cell_type": "code",
   "execution_count": null,
   "metadata": {},
   "outputs": [],
   "source": [
    "testset = trainset.build_testset()"
   ]
  },
  {
   "cell_type": "code",
   "execution_count": null,
   "metadata": {},
   "outputs": [],
   "source": [
    "predictions = algo.test(testset, verbose = False)"
   ]
  },
  {
   "cell_type": "code",
   "execution_count": null,
   "metadata": {},
   "outputs": [],
   "source": [
    "def get_Iu(uid):\n",
    "    try:\n",
    "        return len(trainset.ur[trainset.to_inner_uid(uid)])\n",
    "    except ValueError:\n",
    "        return 0\n",
    "    \n",
    "    \n",
    "def get_Ui(iid):\n",
    "     try:\n",
    "        return len(trainset.ir[trainset.to_inner_iid(iid)])\n",
    "     except ValueError:\n",
    "        return 0\n",
    "\n",
    "\n",
    "df = pd.DataFrame(predictions, columns=['uid','iid','rui', 'est', 'details'])\n",
    "df['Iu'] = df.uid.apply(get_Iu) #number of items reviewed by given user\n",
    "df['Ui'] = df.iid.apply(get_Ui) #number of users that have reviewed given item\n",
    "df['err'] = abs(df.est - df.rui)"
   ]
  },
  {
   "cell_type": "code",
   "execution_count": null,
   "metadata": {},
   "outputs": [],
   "source": [
    "df.head()"
   ]
  },
  {
   "cell_type": "code",
   "execution_count": null,
   "metadata": {},
   "outputs": [],
   "source": [
    "df.err.mean()"
   ]
  },
  {
   "cell_type": "code",
   "execution_count": null,
   "metadata": {},
   "outputs": [],
   "source": [
    "best_predictions = df.sort_values(by='err')[:10]\n",
    "worst_predictions = df.sort_values(by='err')[-10:]"
   ]
  },
  {
   "cell_type": "code",
   "execution_count": null,
   "metadata": {},
   "outputs": [],
   "source": [
    "best_predictions"
   ]
  },
  {
   "cell_type": "code",
   "execution_count": null,
   "metadata": {},
   "outputs": [],
   "source": [
    "trainset, testset = train_test_split(dataset_ecommerce, test_size=.25)\n",
    "algo.fit(trainset)\n",
    "predictions = algo.test(testset)\n",
    "accuracy.rmse(predictions)\n",
    "accuracy.mae(predictions)"
   ]
  },
  {
   "cell_type": "markdown",
   "metadata": {},
   "source": [
    "# KNN Algorithm (Basic; E-Commerce)"
   ]
  },
  {
   "cell_type": "code",
   "execution_count": null,
   "metadata": {},
   "outputs": [],
   "source": [
    "import io\n",
    "from surprise import KNNBasic\n",
    "from surprise import Dataset\n",
    "from surprise import Reader\n",
    "from surprise import accuracy\n",
    "from surprise.model_selection import train_test_split\n",
    "from surprise.model_selection import GridSearchCV"
   ]
  },
  {
   "cell_type": "code",
   "execution_count": null,
   "metadata": {},
   "outputs": [],
   "source": [
    "\n",
    "reader = Reader(rating_scale=(1,5))\n",
    "dataset_ecommerce = Dataset.load_from_df(dataset[['customer_unique_id', 'product_id', 'review_score_y']], reader)"
   ]
  },
  {
   "cell_type": "markdown",
   "metadata": {},
   "source": [
    "GridSearchCV -> find best parameters"
   ]
  },
  {
   "cell_type": "code",
   "execution_count": null,
   "metadata": {},
   "outputs": [],
   "source": [
    "sim_options = {\"name\": [\"msd\", \"cosine\"], \"min_support\": [1,2,3], \"user_based\": [False, True]}\n",
    "\n",
    "param_grid = {\"sim_options\": sim_options}\n",
    "\n",
    "gs = GridSearchCV(KNNBasic, param_grid, measures=[\"rmse\", \"mae\"], cv=3)\n",
    "gs.fit(dataset_ecommerce)\n",
    "\n",
    "print(gs.best_score[\"rmse\"])\n",
    "print(gs.best_params[\"rmse\"])\n",
    "\n",
    "print(gs.best_score[\"mae\"])\n",
    "print(gs.best_params[\"mae\"])"
   ]
  },
  {
   "cell_type": "code",
   "execution_count": null,
   "metadata": {},
   "outputs": [],
   "source": [
    "trainset, testset = train_test_split(dataset_ecommerce, test_size=.25)\n",
    "sim_options = {'name': 'cosine', 'user_based': True, 'min_support': 1}\n",
    "algo = KNNBasic(sim_options=sim_options)\n",
    "algo.fit(trainset)"
   ]
  },
  {
   "cell_type": "code",
   "execution_count": null,
   "metadata": {},
   "outputs": [],
   "source": [
    "predictions = algo.test(testset, verbose = False)"
   ]
  },
  {
   "cell_type": "code",
   "execution_count": null,
   "metadata": {},
   "outputs": [],
   "source": [
    "trainset.n_users"
   ]
  },
  {
   "cell_type": "code",
   "execution_count": null,
   "metadata": {},
   "outputs": [],
   "source": [
    "def get_Iu(uid):\n",
    "    try:\n",
    "        return len(trainset.ur[trainset.to_inner_uid(uid)])\n",
    "    except ValueError:\n",
    "        return 0\n",
    "    \n",
    "    \n",
    "def get_Ui(iid):\n",
    "     try:\n",
    "        return len(trainset.ir[trainset.to_inner_iid(iid)])\n",
    "     except ValueError:\n",
    "        return 0\n",
    "\n",
    "\n",
    "df = pd.DataFrame(predictions, columns=['uid','iid','rui', 'est', 'details'])\n",
    "df['Iu'] = df.uid.apply(get_Iu) #number of items reviewed by given user\n",
    "df['Ui'] = df.iid.apply(get_Ui) #number of users that have reviewed given item\n",
    "df['err'] = abs(df.est - df.rui)"
   ]
  },
  {
   "cell_type": "code",
   "execution_count": null,
   "metadata": {},
   "outputs": [],
   "source": [
    "df.head()"
   ]
  },
  {
   "cell_type": "code",
   "execution_count": null,
   "metadata": {},
   "outputs": [],
   "source": [
    "df.err.mean()"
   ]
  },
  {
   "cell_type": "code",
   "execution_count": null,
   "metadata": {},
   "outputs": [],
   "source": [
    "best_predictions = df.sort_values(by='err')[:10]\n",
    "worst_predictions = df.sort_values(by='err')[-10:]"
   ]
  },
  {
   "cell_type": "code",
   "execution_count": null,
   "metadata": {},
   "outputs": [],
   "source": [
    "best_predictions"
   ]
  },
  {
   "cell_type": "code",
   "execution_count": null,
   "metadata": {},
   "outputs": [],
   "source": [
    "worst_predictions"
   ]
  },
  {
   "cell_type": "code",
   "execution_count": null,
   "metadata": {},
   "outputs": [],
   "source": [
    "df.Ui.value_counts()"
   ]
  },
  {
   "cell_type": "code",
   "execution_count": null,
   "metadata": {},
   "outputs": [],
   "source": [
    "df.Iu.value_counts()"
   ]
  },
  {
   "cell_type": "code",
   "execution_count": null,
   "metadata": {},
   "outputs": [],
   "source": [
    "from surprise import accuracy\n",
    "predictions = algo.test(testset)\n",
    "test = accuracy.rmse(predictions) #root mean squared error"
   ]
  },
  {
   "cell_type": "code",
   "execution_count": null,
   "metadata": {},
   "outputs": [],
   "source": [
    "test = accuracy.mae(predictions) #Mean absolute Error"
   ]
  },
  {
   "cell_type": "code",
   "execution_count": null,
   "metadata": {},
   "outputs": [],
   "source": []
  },
  {
   "cell_type": "markdown",
   "metadata": {},
   "source": [
    "# KNN Algorithm (ZScore; E-Commerce)"
   ]
  },
  {
   "cell_type": "code",
   "execution_count": null,
   "metadata": {},
   "outputs": [],
   "source": [
    "import io\n",
    "from surprise import KNNWithZScore\n",
    "from surprise import Dataset\n",
    "from surprise import Reader\n",
    "from surprise import accuracy\n",
    "from surprise.model_selection import train_test_split\n",
    "from surprise.model_selection import GridSearchCV"
   ]
  },
  {
   "cell_type": "code",
   "execution_count": null,
   "metadata": {},
   "outputs": [],
   "source": [
    "reader = Reader(rating_scale=(1,5))\n",
    "dataset_ecommerce = Dataset.load_from_df(dataset[['customer_unique_id', 'product_id', 'review_score_y']], reader)"
   ]
  },
  {
   "cell_type": "markdown",
   "metadata": {},
   "source": [
    "GridSearchCV -> find best parameters"
   ]
  },
  {
   "cell_type": "code",
   "execution_count": null,
   "metadata": {},
   "outputs": [],
   "source": [
    "sim_options = {\"name\": [\"msd\", \"cosine\"], \"min_support\": [1,2,3], \"user_based\": [False, True]}\n",
    "\n",
    "param_grid = {\"sim_options\": sim_options}\n",
    "\n",
    "gs = GridSearchCV(KNNWithZScore, param_grid, measures=[\"rmse\", \"mae\"], cv=3)\n",
    "gs.fit(dataset_ecommerce)\n",
    "\n",
    "print(gs.best_score[\"rmse\"])\n",
    "print(gs.best_params[\"rmse\"])\n",
    "\n",
    "print(gs.best_score[\"mae\"])\n",
    "print(gs.best_params[\"mae\"])"
   ]
  },
  {
   "cell_type": "code",
   "execution_count": null,
   "metadata": {},
   "outputs": [],
   "source": [
    "trainset, testset = train_test_split(dataset_ecommerce, test_size=.25)\n",
    "sim_options = {'name': 'cosine', 'user_based': True, 'min_support': 1}\n",
    "algo = KNNBasic(sim_options=sim_options)\n",
    "algo.fit(trainset)"
   ]
  },
  {
   "cell_type": "code",
   "execution_count": null,
   "metadata": {},
   "outputs": [],
   "source": [
    "predictions = algo.test(testset, verbose = False)"
   ]
  },
  {
   "cell_type": "code",
   "execution_count": null,
   "metadata": {},
   "outputs": [],
   "source": [
    "trainset.n_users"
   ]
  },
  {
   "cell_type": "code",
   "execution_count": null,
   "metadata": {},
   "outputs": [],
   "source": [
    "def get_Iu(uid):\n",
    "    try:\n",
    "        return len(trainset.ur[trainset.to_inner_uid(uid)])\n",
    "    except ValueError:\n",
    "        return 0\n",
    "    \n",
    "    \n",
    "def get_Ui(iid):\n",
    "     try:\n",
    "        return len(trainset.ir[trainset.to_inner_iid(iid)])\n",
    "     except ValueError:\n",
    "        return 0\n",
    "\n",
    "\n",
    "df = pd.DataFrame(predictions, columns=['uid','iid','rui', 'est', 'details'])\n",
    "df['Iu'] = df.uid.apply(get_Iu) #number of items reviewed by given user\n",
    "df['Ui'] = df.iid.apply(get_Ui) #number of users that have reviewed given item\n",
    "df['err'] = abs(df.est - df.rui)"
   ]
  },
  {
   "cell_type": "code",
   "execution_count": null,
   "metadata": {},
   "outputs": [],
   "source": [
    "df.head()"
   ]
  },
  {
   "cell_type": "code",
   "execution_count": null,
   "metadata": {},
   "outputs": [],
   "source": [
    "df.err.mean()"
   ]
  },
  {
   "cell_type": "code",
   "execution_count": null,
   "metadata": {},
   "outputs": [],
   "source": [
    "best_predictions = df.sort_values(by='err')[:10]\n",
    "worst_predictions = df.sort_values(by='err')[-10:]"
   ]
  },
  {
   "cell_type": "code",
   "execution_count": null,
   "metadata": {},
   "outputs": [],
   "source": [
    "best_predictions"
   ]
  },
  {
   "cell_type": "code",
   "execution_count": null,
   "metadata": {},
   "outputs": [],
   "source": [
    "worst_predictions"
   ]
  },
  {
   "cell_type": "code",
   "execution_count": null,
   "metadata": {},
   "outputs": [],
   "source": [
    "df.Ui.value_counts()"
   ]
  },
  {
   "cell_type": "code",
   "execution_count": null,
   "metadata": {},
   "outputs": [],
   "source": [
    "df.Iu.value_counts()"
   ]
  },
  {
   "cell_type": "code",
   "execution_count": null,
   "metadata": {},
   "outputs": [],
   "source": [
    "from surprise import accuracy\n",
    "predictions = algo.test(testset)\n",
    "test = accuracy.rmse(predictions) #root mean squared error"
   ]
  },
  {
   "cell_type": "code",
   "execution_count": null,
   "metadata": {},
   "outputs": [],
   "source": [
    "test = accuracy.mae(predictions) #Mean absolute Error"
   ]
  },
  {
   "cell_type": "code",
   "execution_count": null,
   "metadata": {},
   "outputs": [],
   "source": []
  },
  {
   "cell_type": "markdown",
   "metadata": {},
   "source": [
    "# KNN Algorithm (Baseline; E-Commerce)"
   ]
  },
  {
   "cell_type": "code",
   "execution_count": null,
   "metadata": {},
   "outputs": [],
   "source": [
    "import io\n",
    "from surprise import KNNBaseline\n",
    "from surprise import Dataset\n",
    "from surprise import Reader\n",
    "from surprise import accuracy\n",
    "from surprise.model_selection import train_test_split\n",
    "from surprise.model_selection import GridSearchCV"
   ]
  },
  {
   "cell_type": "code",
   "execution_count": null,
   "metadata": {},
   "outputs": [],
   "source": [
    "reader = Reader(rating_scale=(1,5))\n",
    "dataset_ecommerce = Dataset.load_from_df(dataset[['customer_unique_id', 'product_id', 'review_score_y']], reader)"
   ]
  },
  {
   "cell_type": "markdown",
   "metadata": {},
   "source": [
    "GridSearchCV -> find best parameters"
   ]
  },
  {
   "cell_type": "code",
   "execution_count": null,
   "metadata": {},
   "outputs": [],
   "source": [
    "sim_options = {\"name\": [\"msd\", \"cosine\"], \"min_support\": [1,2,3], \"user_based\": [False, True]}\n",
    "\n",
    "param_grid = {\"sim_options\": sim_options}\n",
    "\n",
    "gs = GridSearchCV(KNNBaseline, param_grid, measures=[\"rmse\", \"mae\"], cv=3)\n",
    "gs.fit(dataset_ecommerce)\n",
    "\n",
    "print(gs.best_score[\"rmse\"])\n",
    "print(gs.best_params[\"rmse\"])\n",
    "\n",
    "print(gs.best_score[\"mae\"])\n",
    "print(gs.best_params[\"mae\"])"
   ]
  },
  {
   "cell_type": "code",
   "execution_count": null,
   "metadata": {},
   "outputs": [],
   "source": [
    "trainset, testset = train_test_split(dataset_ecommerce, test_size=.25)\n",
    "sim_options = {'name': 'cosine', 'user_based': False, 'min_support': 1}\n",
    "algo = KNNBasic(sim_options=sim_options)\n",
    "algo.fit(trainset)"
   ]
  },
  {
   "cell_type": "code",
   "execution_count": null,
   "metadata": {},
   "outputs": [],
   "source": [
    "predictions = algo.test(testset, verbose = False)"
   ]
  },
  {
   "cell_type": "code",
   "execution_count": null,
   "metadata": {},
   "outputs": [],
   "source": [
    "trainset.n_users"
   ]
  },
  {
   "cell_type": "code",
   "execution_count": null,
   "metadata": {},
   "outputs": [],
   "source": [
    "def get_Iu(uid):\n",
    "    try:\n",
    "        return len(trainset.ur[trainset.to_inner_uid(uid)])\n",
    "    except ValueError:\n",
    "        return 0\n",
    "    \n",
    "    \n",
    "def get_Ui(iid):\n",
    "     try:\n",
    "        return len(trainset.ir[trainset.to_inner_iid(iid)])\n",
    "     except ValueError:\n",
    "        return 0\n",
    "\n",
    "\n",
    "df = pd.DataFrame(predictions, columns=['uid','iid','rui', 'est', 'details'])\n",
    "df['Iu'] = df.uid.apply(get_Iu) #number of items reviewed by given user\n",
    "df['Ui'] = df.iid.apply(get_Ui) #number of users that have reviewed given item\n",
    "df['err'] = abs(df.est - df.rui)"
   ]
  },
  {
   "cell_type": "code",
   "execution_count": null,
   "metadata": {},
   "outputs": [],
   "source": [
    "df.head()"
   ]
  },
  {
   "cell_type": "code",
   "execution_count": null,
   "metadata": {},
   "outputs": [],
   "source": [
    "df.err.mean()"
   ]
  },
  {
   "cell_type": "code",
   "execution_count": null,
   "metadata": {},
   "outputs": [],
   "source": [
    "best_predictions = df.sort_values(by='err')[:10]\n",
    "worst_predictions = df.sort_values(by='err')[-10:]"
   ]
  },
  {
   "cell_type": "code",
   "execution_count": null,
   "metadata": {},
   "outputs": [],
   "source": [
    "best_predictions"
   ]
  },
  {
   "cell_type": "code",
   "execution_count": null,
   "metadata": {},
   "outputs": [],
   "source": [
    "worst_predictions"
   ]
  },
  {
   "cell_type": "code",
   "execution_count": null,
   "metadata": {},
   "outputs": [],
   "source": [
    "df.Ui.value_counts()"
   ]
  },
  {
   "cell_type": "code",
   "execution_count": null,
   "metadata": {},
   "outputs": [],
   "source": [
    "df.Iu.value_counts()"
   ]
  },
  {
   "cell_type": "code",
   "execution_count": null,
   "metadata": {},
   "outputs": [],
   "source": [
    "from surprise import accuracy\n",
    "predictions = algo.test(testset)\n",
    "test = accuracy.rmse(predictions) #root mean squared error"
   ]
  },
  {
   "cell_type": "code",
   "execution_count": null,
   "metadata": {},
   "outputs": [],
   "source": [
    "test = accuracy.mae(predictions) #Mean absolute Error"
   ]
  },
  {
   "cell_type": "code",
   "execution_count": null,
   "metadata": {},
   "outputs": [],
   "source": []
  },
  {
   "cell_type": "code",
   "execution_count": null,
   "metadata": {},
   "outputs": [],
   "source": []
  }
 ],
 "metadata": {
  "kernelspec": {
   "display_name": "Python 3",
   "language": "python",
   "name": "python3"
  },
  "language_info": {
   "codemirror_mode": {
    "name": "ipython",
    "version": 3
   },
   "file_extension": ".py",
   "mimetype": "text/x-python",
   "name": "python",
   "nbconvert_exporter": "python",
   "pygments_lexer": "ipython3",
   "version": "3.7.6"
  }
 },
 "nbformat": 4,
 "nbformat_minor": 4
}
